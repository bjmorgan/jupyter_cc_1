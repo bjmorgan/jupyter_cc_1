{
 "cells": [
  {
   "cell_type": "markdown",
   "metadata": {},
   "source": [
    "# Data Analysis with Jupyter Notebooks.\n",
    "\n",
    "# Outline\n",
    "\n",
    "Benjamin J. Morgan, University of Bath."
   ]
  },
  {
   "cell_type": "markdown",
   "metadata": {},
   "source": [
    "## [Tutorial 1](Tutorial 1.ipynb)\n",
    "\n",
    "- [Data Analysis with Jupyter Notebooks](Tutorial 1.ipynb/#intro)\n",
    "    - [Why analyse data with computer code?](Tutorial 1.ipynb/#why)\n",
    "- [Getting Started with Jupyter Notebooks](Tutorial 1.ipynb/#getting_started)\n",
    "- [Running Code](Tutorial 1.ipynb/#running_code)\n",
    "- [Simple Calculations](Tutorial 1.ipynb/#simple_calculations)\n",
    "- [Comments and Markdown cells](Tutorial 1.ipynb/#comments)\n",
    "- [Mathematical Functions and Modules](Tutorial 1.ipynb/#functions_and_modules)\n",
    "- [Variables](Tutorial 1.ipynb/#variables)"
   ]
  },
  {
   "cell_type": "markdown",
   "metadata": {},
   "source": [
    "## [Tutorial 2](Tutorial 2.ipynb)\n",
    "\n",
    "- [Data Types](Tutorial 2.ipynb/#data_types)\n",
    "    - [Integers and Floats](Tutorial 2.ipynb/#numbers)\n",
    "        - [Scientific Notation](Tutorial 2.ipynb/#scientific_notation)\n",
    "    - [Strings](Tutorial 2.ipynb/#strings)\n",
    "    - [Lists](Tutorial 2.ipynb/#lists)\n",
    "- [Numpy and arrays](Tutorial 2.ipynb/#numpy)"
   ]
  },
  {
   "cell_type": "markdown",
   "metadata": {},
   "source": [
    "## [Tutorial 3](Tutorial 3.ipynb)\n",
    "\n",
    "- [Plotting data with matplotlib](Tutorial 3.ipynb/#matplotlib)\n",
    "- [Creating Tables with 2D numpy arrays](Tutorial 3.ipynb/#2d_arrays)"
   ]
  },
  {
   "cell_type": "markdown",
   "metadata": {},
   "source": [
    "## [Tutorial 4](Tutorial 4.ipynb)\n",
    "\n",
    "- [Introduction to pandas](Tutorial 4.ipynb/#pandas)\n",
    "- [Managing datasets with pandas](Tutorial 4.ipynb/#pandas2)\n",
    "- [Reading and writing data files](Tutorial 4.ipynb/#csv_io)"
   ]
  },
  {
   "cell_type": "markdown",
   "metadata": {},
   "source": [
    "## [Tutorial 5](Tutorial 5.ipynb)\n",
    "\n",
    "- [Data analysis and statistics with numpy](Tutorial 5.ipynb/#data_analysis)\n",
    "- [Linear regression](Tutorial 5.ipynb/#linear_regression)"
   ]
  },
  {
   "cell_type": "markdown",
   "metadata": {},
   "source": [
    "## [Tutorial 6](Tutorial 6.ipynb)\n",
    "\n",
    "- [Putting it all together](Tutorial 6.ipynb/#all_together)"
   ]
  },
  {
   "cell_type": "markdown",
   "metadata": {},
   "source": [
    "## [Exercise 1](Exercise 1.pynb)"
   ]
  },
  {
   "cell_type": "markdown",
   "metadata": {},
   "source": [
    "## [Exercise 2](Exercise 2.ipynb)"
   ]
  },
  {
   "cell_type": "markdown",
   "metadata": {},
   "source": [
    "## [Further Reading](Further Reading.ipynb)\n",
    "\n",
    "- [More Python](Further Reading.ipynb/#further_reading)\n",
    "- [Installing Jupyter on Your Own Computer](Further Reading.ipynb/#additional_info)"
   ]
  }
 ],
 "metadata": {
  "kernelspec": {
   "display_name": "Python 3",
   "language": "python",
   "name": "python3"
  },
  "language_info": {
   "codemirror_mode": {
    "name": "ipython",
    "version": 3
   },
   "file_extension": ".py",
   "mimetype": "text/x-python",
   "name": "python",
   "nbconvert_exporter": "python",
   "pygments_lexer": "ipython3",
   "version": "3.6.0"
  }
 },
 "nbformat": 4,
 "nbformat_minor": 2
}
