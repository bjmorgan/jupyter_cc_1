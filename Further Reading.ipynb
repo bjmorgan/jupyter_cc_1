{
 "cells": [
  {
   "cell_type": "markdown",
   "metadata": {},
   "source": [
    "# Contents\n",
    "\n",
    "- [Further Reading](#further_reading)\n",
    "- [Additional Info](#additional_info)"
   ]
  },
  {
   "cell_type": "markdown",
   "metadata": {},
   "source": [
    "# Further Reading<a id='further_reading'></a>\n",
    "\n",
    "Learning Python:\n",
    "- [Code Academy](https://www.codecademy.com/learn/python)\n",
    "- [Learn Python the Hard Way](https://learncodethehardway.org/python/)\n",
    "\n",
    "pandas:\n",
    "- [pandas Cookbook on github](https://github.com/jvns/pandas-cookbook)\n",
    "\n",
    "data analysis:\n",
    "- [Python Data Science Handbook on github](https://github.com/jakevdp/PythonDataScienceHandbook)"
   ]
  },
  {
   "cell_type": "markdown",
   "metadata": {
    "collapsed": true
   },
   "source": [
    "# Additional info<a id='additional_info'></a>\n",
    "\n",
    "## Installing Jupyter on your own computer\n",
    "\n",
    "[instructions](http://jupyter.readthedocs.io/en/latest/install.html)\n",
    "\n",
    "[Anaconda Installers](https://www.continuum.io/downloads)\n",
    "\n",
    "### macOS — alternate installation from the terminal\n",
    "\n",
    "Use [homebrew](http://brew.sh) to install `python3`:\n",
    "\n",
    "```\n",
    "brew install python3\n",
    "```\n",
    "\n",
    "Use `pip3` to install jupyter:\n",
    "\n",
    "```\n",
    "pip3 install jupyter\n",
    "```\n",
    "\n",
    "Additional modules can also be installed with `pip3`, e.g.\n",
    "\n",
    "```\n",
    "pip3 install pandas\n",
    "```"
   ]
  },
  {
   "cell_type": "code",
   "execution_count": null,
   "metadata": {
    "collapsed": true
   },
   "outputs": [],
   "source": []
  }
 ],
 "metadata": {
  "kernelspec": {
   "display_name": "Python 3",
   "language": "python",
   "name": "python3"
  },
  "language_info": {
   "codemirror_mode": {
    "name": "ipython",
    "version": 3
   },
   "file_extension": ".py",
   "mimetype": "text/x-python",
   "name": "python",
   "nbconvert_exporter": "python",
   "pygments_lexer": "ipython3",
   "version": "3.5.2"
  }
 },
 "nbformat": 4,
 "nbformat_minor": 2
}
