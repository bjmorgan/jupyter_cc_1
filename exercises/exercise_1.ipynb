{
 "cells": [
  {
   "cell_type": "markdown",
   "metadata": {},
   "source": [
    "# Numpy for Arithmetic and Data Plotting\n",
    "\n",
    "## exercise\n",
    "\n",
    "<ol>\n",
    "    <li>This exercise requires various modules to be imported. For each line of code in the following code cell, complete the comment beneath it to explain what the previous statement is doing.</li>\n",
    "</ol>\n"
   ]
  },
  {
   "cell_type": "code",
   "execution_count": 61,
   "metadata": {
    "collapsed": false
   },
   "outputs": [],
   "source": [
    "import numpy as np\n",
    "#\n",
    "import pandas as pd\n",
    "#\n",
    "import matplotlib.pyplot as plt\n",
    "#\n",
    "%matplotlib inline \n",
    "#"
   ]
  },
  {
   "cell_type": "markdown",
   "metadata": {},
   "source": [
    "<ol start=\"2\">\n",
    "    <li>Create a `numpy` array that contains the numbers 1–20.</li><br/>\n",
    "    \n",
    "    <li>Use this array to calculate the following formulae for each number, $x=1,2,3\\ldots18,19,20$:<br/><br/>\n",
    "    \n",
    "        a. $x^2$,  \n",
    "        b. $13x+12$,  \n",
    "        c. $3x^4$,  \n",
    "        d. $\\ln(x)$,  \n",
    "        e. $2x^2-3$,  \n",
    "        f. $(2x^2+\\ln(x)-(1/x)+2\\times10^{-2})$,  \n",
    "        g. $\\sqrt x$ </li><br/>\n",
    "    <li>Combine the original array, $x$, and the results into a `pandas` DataFrame, with columns labelled: x, a, b, c, d, e, f, g.<br/>Use `print()` to view the DataFrame, with each value shown to 2 decimal places.</li><br/>\n",
    "    <li>Plot $x^2$, $(13x+12)$, and $(2x^2-3)$ versus $x$ on a single graph.<br/>\n",
    "Label the axes, and add a title and legend. Include your initials in the title.<br/>\n",
    "Save the figure as a pdf.</li>\n",
    "</ol>\n",
    "\n",
    "* Comment all your code blocks to explain what you are doing."
   ]
  },
  {
   "cell_type": "code",
   "execution_count": null,
   "metadata": {
    "collapsed": false
   },
   "outputs": [],
   "source": [
    "# Complete the exercise parts 2–5 from here.\n",
    "\n",
    "# Insert additional code and markdown cells \n",
    "# as needed to keep your work organised"
   ]
  }
 ],
 "metadata": {
  "kernelspec": {
   "display_name": "Python 3",
   "language": "python",
   "name": "python3"
  },
  "language_info": {
   "codemirror_mode": {
    "name": "ipython",
    "version": 3
   },
   "file_extension": ".py",
   "mimetype": "text/x-python",
   "name": "python",
   "nbconvert_exporter": "python",
   "pygments_lexer": "ipython3",
   "version": "3.5.2"
  }
 },
 "nbformat": 4,
 "nbformat_minor": 0
}
