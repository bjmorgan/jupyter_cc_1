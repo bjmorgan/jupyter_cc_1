{
 "cells": [
  {
   "cell_type": "markdown",
   "metadata": {},
   "source": [
    "# Contents\n",
    "\n",
    "- [Data Analysis with Jupyter Notebooks](#intro)\n",
    "    - [Why analyse data with computer code?](#why)\n",
    "- [Getting Started with Jupyter Notebooks](#getting_started)\n",
    "- [Running Code](#running_code)\n",
    "- [Simple Calculations](#simple_calculations)\n",
    "- [Comments and Markdown cells](#comments)\n",
    "- [Mathematical Functions and Modules](#functions_and_modules)\n",
    "- [Variables](#variables)\n",
    "- [Data Types](#data_types)\n",
    "    - [Integers and Floats](#numbers)\n",
    "    - [Strings](#strings)\n",
    "    - [Lists](#lists)\n",
    "- [Numpy and arrays](#numpy)\n",
    "- [Plotting data with matplotlib](#matplotlib)\n",
    "- [Creating Tables with 2D numpy arrays](#2d_arrays)\n",
    "- [Introduction to pandas](#pandas)\n",
    "- [Managing datasets with pandas](#pandas2)\n",
    "- [Introductory data analysis with numpy](#data_analysis)\n",
    "- [Further Reading](#further_reading)\n",
    "- [Additional Info](#additional_info)"
   ]
  },
  {
   "cell_type": "markdown",
   "metadata": {},
   "source": [
    "# Data Analysis with Jupyter Notebooks<a id=\"intro\"></a>\n",
    "\n",
    "This is a Jupyter notebook. In some ways each document is like a physical notebook. It can be used for describing an experiment, recording data, and commenting on it. Unlike a physical notebook, a Jupyter notebook also allows you to run and easily share computer code. This combination makes Jupyter notebooks a very useful tool for analysing data collected from experiments. Unlike spreadsheets or combinations of separate data analysis codes, a Jupyter notebook allows you to collect desciptions and notes for individual experiments, links to the raw data collected, the computer code that performs any necessary data analysis, and the final figures generated with these data, ready for use in a report or published paper.\n",
    "\n",
    "## Why analyse data using code?<a id=\"id\"></a>\n",
    "Using computer code allows you to analyse experimental data *programmatically*. All the steps for working with your data are carried out according to a *program*; a predefined series of instructions; like a recipe for a particular meal. \n",
    "\n",
    "Once a particular program has been written, it will always produce the same results with the same starting data. This makes it possible to &ldquo;show your working&rdquo;. Scientists presenting new results can share their original data, alongside the code that they used for all their analysis. This has a number of benefits. Other scientists can review the code, run it against the original data set, and check that any analysis has been done correctly. \n",
    "\n",
    "Finished code can also be used as a starting point for looking at a similar set of data. The original scientist might repeat their experiment to confirm their results, or another group might collect data under slightly different conditions, and want to compare the two cases. Often the steps described by the code are the same for small data sets and for large data sets. Once an analysis program exists, processing enormous data sets simply becomes a question of access to sufficiently powerful computers. \n",
    "\n"
   ]
  },
  {
   "cell_type": "markdown",
   "metadata": {},
   "source": [
    "TO GO IN PRINTED STARTING DOCUMENT (reference on [Notebook basics](http://nbviewer.jupyter.org/github/jupyter/notebook/blob/master/docs/source/examples/Notebook/Notebook%20Basics.ipynb): using the notebook dashboard and navigation)"
   ]
  },
  {
   "cell_type": "markdown",
   "metadata": {},
   "source": [
    "# Getting Started with Jupyter Notebooks<a id='getting_started'></a>\n",
    "\n",
    "A Jupyter notebook consists of a series of **cells** that contain text. These cells are arranged vertically, top-to-bottom in the document. Any cell can be edited by clicking on it. A cell in **edit mode** is indicated by a green border. \n",
    "<img style=\"width:700px\" src='figures/target_cell.png' />\n",
    "A cell with a blue border is in **command mode**. \n",
    "<img style=\"width:700px\" src='figures/command_mode_cell.png' />\n",
    "In command mode you are not able to type into a cell, but you can still edit the notebook (reordering cells, executing code, etc.) Commands for editing notebooks can be accessed from the manu at the top of the screen, and commonly used commands have keyboard shortcuts, which will be highlighted in examples using <span style=\"color:green\">green text</span>. The full list of keyboard shortcuts can be found through Help > Keyboard Shortcuts in the menu.\n",
    "\n",
    "To edit a cell in command mode, press enter or double click on the cell."
   ]
  },
  {
   "cell_type": "markdown",
   "metadata": {
    "collapsed": true
   },
   "source": [
    "## Running Code<a id=\"running_code\"></a> \n",
    "\n",
    "The Jupyter notebook is primarily useful for writing and running code. A large number of different computer languages can be used in Jupyter notebooks. In these examples, we will be using Python (specifically Python 3). Python is increasingly used across a large number of scientific disciplines for data management and analysis. The large scientific community means that very good resources already exist for data processing, such as the Jupyter project, and specific prewritten tools for manipulating and plotting data.\n",
    "\n",
    "This course will not go into detail about how to write your own Python code. Instead, as much as possible we are going to focus on learning how to use readily available packages for data analysis. There are plenty of resources for learning Python for more traditional programming tasks, such as the tutorials at [Code Academy](https://www.codecademy.com/learn/python).\n",
    "\n",
    "The default cell type in a Jupyter notebook is a **code** cell. If you open a new notebook it will have one, empty, code cell. And you can always create more cells by clicking in the menu on Insert > Insert Cell Above (<span style=\"color:green\">a</span>) or Insert > Insert Cell Below (<span style=\"color:green\">b</span>).  \n",
    "<img style=\"width:550px\" src='figures/insert_cell.png'/>\n",
    "Any code typed into a code cell can be run (or \"**executed**\") by pressing `Shift-Enter` or pressing the <img style='display:inline; height:1.5em; vertical-align: bottom;' src='figures/run_code_button.png'/> button in the notebook toolbar.\n",
    "\n",
    "This practical consists of an interactive tutorial (this notebook), followed by a a series of exercises. Some code cells in the tutorial will already have code in them, which you can **run** by selecting and pressing `Shift-Enter` or clicking the toolbar button:"
   ]
  },
  {
   "cell_type": "code",
   "execution_count": null,
   "metadata": {
    "collapsed": false
   },
   "outputs": [],
   "source": [
    "2+3 # run this cell…"
   ]
  },
  {
   "cell_type": "markdown",
   "metadata": {},
   "source": [
    "You should now have <span style=\"color:#D64423; font-family:monospace\">Out[ ]:</span> with the result of running this code printed next to it:\n",
    "<img style=\"width:590px\" src='figures/output.png'/>\n",
    "and the focus has automatically moved to the next cell. You can always re-select a cell to run it again.\n",
    "\n",
    "Most of the code examples will be presented like this:\n",
    "\n",
    ">```python\n",
    "print(\"hello\")\n",
    "```\n",
    "\n",
    "with an empty code cell underneath. These examples are for you to type into the empty code cell and then run. Do not copy and paste these. You will learn the concepts faster and become comfortable with writing your own code if you type each piece of code out.\n",
    "\n",
    "Start with this example:\n",
    "\n",
    ">```python\n",
    "print(\"hello\")\n",
    "```"
   ]
  },
  {
   "cell_type": "code",
   "execution_count": null,
   "metadata": {
    "collapsed": false
   },
   "outputs": [],
   "source": []
  },
  {
   "cell_type": "markdown",
   "metadata": {},
   "source": [
    "Your output should be\n",
    "\n",
    "```\n",
    "hello\n",
    "```"
   ]
  },
  {
   "cell_type": "markdown",
   "metadata": {},
   "source": [
    "There will also be small exercises that ask you to write your own piece of code from scratch, or modify an example that is not finished yet; it might contain an error – often called a **bug**, or just not do exactly what we would like. These will be in green boxes."
   ]
  },
  {
   "cell_type": "markdown",
   "metadata": {},
   "source": [
    "<div class=\"alert alert-success\"> \n",
    "<b>Edit</b> the <span style=\"font-family:monospace;\">print</span> statement below, so that when you run the cell it prints your name.\n",
    "</div>"
   ]
  },
  {
   "cell_type": "code",
   "execution_count": null,
   "metadata": {
    "collapsed": false
   },
   "outputs": [],
   "source": [
    "# Type your code into this cell and run it.\n",
    "print(\"\")"
   ]
  },
  {
   "cell_type": "markdown",
   "metadata": {},
   "source": [
    "<div class=\"alert alert-success\">\n",
    "Enter code into the cell below to print today's date.\n",
    "</div>"
   ]
  },
  {
   "cell_type": "code",
   "execution_count": null,
   "metadata": {
    "collapsed": false
   },
   "outputs": [],
   "source": []
  },
  {
   "cell_type": "markdown",
   "metadata": {
    "collapsed": true
   },
   "source": [
    "## Simple calculations<a id=\"simple_calculations\"></a>\n",
    "\n",
    "One of the simplest forms of &ldquo;code&rdquo; that can be run in code cells is mathematical expressions:\n",
    "\n",
    ">```python\n",
    "1+2+3+4\n",
    "```"
   ]
  },
  {
   "cell_type": "code",
   "execution_count": null,
   "metadata": {
    "collapsed": false
   },
   "outputs": [],
   "source": []
  },
  {
   "cell_type": "markdown",
   "metadata": {},
   "source": [
    ">```python\n",
    "4*5/2\n",
    "```"
   ]
  },
  {
   "cell_type": "code",
   "execution_count": null,
   "metadata": {
    "collapsed": false
   },
   "outputs": [],
   "source": []
  },
  {
   "cell_type": "markdown",
   "metadata": {},
   "source": [
    ">```python\n",
    "2**4 - 2\n",
    "```"
   ]
  },
  {
   "cell_type": "code",
   "execution_count": null,
   "metadata": {
    "collapsed": false,
    "scrolled": true
   },
   "outputs": [],
   "source": []
  },
  {
   "cell_type": "markdown",
   "metadata": {},
   "source": [
    "`**` is the &ldquo;power&rdquo; operator. This code calculates $2^4 - 2$."
   ]
  },
  {
   "cell_type": "markdown",
   "metadata": {},
   "source": [
    "<div class=\"alert alert-success\">\n",
    "Perform the following calculations:  \n",
    "    $1+1+2+3+5+8$   \n",
    "    $1*2*3*4*5*6$  \n",
    "    $2^{10}$ \n",
    "</div>"
   ]
  },
  {
   "cell_type": "code",
   "execution_count": null,
   "metadata": {
    "collapsed": true
   },
   "outputs": [],
   "source": []
  },
  {
   "cell_type": "markdown",
   "metadata": {},
   "source": [
    "## Explain Your Code: Comments and Markdown Cells<a id=\"comments\"></a>\n",
    "One of the advantages of using *code* for numerical calculations and data analysis is that you end up with a record of exactly what you have done. You, or anyone else, can read the code, to understand how you reached your answer. You can think of this as &ldquo;showing your working&rdquo;, and it can be very helpful if you want to solve a *similar* problem in the future.\n",
    "\n",
    "Often, reading only the code can get quite cryptic (it is called &ldquo;code&rdquo;, after all), which makes it difficult to understand what is happening. To explain what a particular piece of code does, or to explain *why* a piece of code is being used, you can include **comments**.\n",
    "\n",
    " \n",
    "```python\n",
    "# this is a comment\n",
    "```\n",
    "\n",
    "Any text that appears after a <span style=\"font-family:monospace; color:#438080\">#</span> symbol is part of the comment, and is ignored when the code is run. \n",
    "\n",
    "Jupyter notebooks offer a second way to describe what you are doing: **Markdown cells**. A code cell can be converted to a Markdown cell by selecting Cell > Cell Type > Markdown from the menu.  \n",
    "<img src='figures/markdown.png', width=350/>  \n",
    "A Markdown cell can be used to type plain text, which is displayed when the cell is run. Markdown cells are useful for documenting a notebook, particularly when you want to write something more detailed than a short comment. Markdown cells can also contain basic text formatting, links, images, and equations (more information is [here](http://jupyter-notebook.readthedocs.io/en/latest/examples/Notebook/Working%20With%20Markdown%20Cells.html))."
   ]
  },
  {
   "cell_type": "markdown",
   "metadata": {},
   "source": [
    "<div class=\"alert alert-success\">\n",
    "Add a comment to the previous code cell and re-run it.\n",
    "</div>"
   ]
  },
  {
   "cell_type": "markdown",
   "metadata": {},
   "source": [
    "## Mathematical functions and modules<a id=\"functions_and_modules\"></a>\n",
    "\n",
    "In mathematics, a **function** converts one number to another number; $y=f(x)$.\n",
    "\n",
    "In programming, a **function** is more general than this, and converts an input into an output. For example, if we want to calculate a square root, we can use the `sqrt()` function.\n",
    "\n",
    ">```python\n",
    "sqrt(4)\n",
    "```"
   ]
  },
  {
   "cell_type": "code",
   "execution_count": null,
   "metadata": {
    "collapsed": false
   },
   "outputs": [],
   "source": []
  },
  {
   "cell_type": "markdown",
   "metadata": {},
   "source": [
    "This has given us an error:  \n",
    "\n",
    "<span style=\"font-family:monospace\"><span style=\"color:#890004\">NameError</span><span style=\"color:#046308\">: name 'sqrt' is not defined</style></span>. \n",
    "\n",
    "Python has a *lot* of built in commands (functions). Solving any particular problem will only require a small subset of these. To keep Python code efficient, only a minimal set of the available tools are available \"out of the box\". Other commands (such as mathematical functions) are collected in **modules** that we can load, to make these available in our notebook.\n",
    "\n",
    "`sqrt` lives in the `math` module. We can load it like this:\n",
    "\n",
    ">```python\n",
    "from math import sqrt\n",
    "sqrt(4)\n",
    "```\n"
   ]
  },
  {
   "cell_type": "code",
   "execution_count": null,
   "metadata": {
    "collapsed": false
   },
   "outputs": [],
   "source": []
  },
  {
   "cell_type": "markdown",
   "metadata": {},
   "source": [
    "Or we can import the entire math module:\n",
    "\n",
    ">```python\n",
    "import math\n",
    "math.sqrt(4)\n",
    "```"
   ]
  },
  {
   "cell_type": "code",
   "execution_count": null,
   "metadata": {
    "collapsed": false
   },
   "outputs": [],
   "source": []
  },
  {
   "cell_type": "markdown",
   "metadata": {},
   "source": [
    "You can think of `math.sqrt()` as instructing the computer to &ldquo;use the `sqrt()` function provided inside the  `math` module&rdquo;."
   ]
  },
  {
   "cell_type": "markdown",
   "metadata": {},
   "source": [
    "The `math` module contains a [large set of common mathematical functions](https://docs.python.org/2/library/math.html), and the constants $\\pi$ and $\\mathrm{e}$ (natural logarithm).\n",
    "\n",
    ">```python\n",
    "from math import pi, sin, e, log\n",
    "```"
   ]
  },
  {
   "cell_type": "code",
   "execution_count": null,
   "metadata": {
    "collapsed": false
   },
   "outputs": [],
   "source": []
  },
  {
   "cell_type": "markdown",
   "metadata": {},
   "source": [
    ">```python\n",
    "pi\n",
    "```"
   ]
  },
  {
   "cell_type": "code",
   "execution_count": null,
   "metadata": {
    "collapsed": false
   },
   "outputs": [],
   "source": []
  },
  {
   "cell_type": "markdown",
   "metadata": {},
   "source": [
    ">```python\n",
    "sin( pi/2 )\n",
    "```"
   ]
  },
  {
   "cell_type": "code",
   "execution_count": null,
   "metadata": {
    "collapsed": false
   },
   "outputs": [],
   "source": []
  },
  {
   "cell_type": "markdown",
   "metadata": {},
   "source": [
    ">```python\n",
    "e # natural logarithm\n",
    "```"
   ]
  },
  {
   "cell_type": "code",
   "execution_count": null,
   "metadata": {
    "collapsed": true
   },
   "outputs": [],
   "source": []
  },
  {
   "cell_type": "markdown",
   "metadata": {},
   "source": [
    ">```python\n",
    "log(e)\n",
    "```"
   ]
  },
  {
   "cell_type": "code",
   "execution_count": null,
   "metadata": {
    "collapsed": false,
    "scrolled": true
   },
   "outputs": [],
   "source": []
  },
  {
   "cell_type": "markdown",
   "metadata": {},
   "source": [
    ">```python\n",
    "e**2\n",
    "```"
   ]
  },
  {
   "cell_type": "code",
   "execution_count": null,
   "metadata": {
    "collapsed": false,
    "scrolled": true
   },
   "outputs": [],
   "source": []
  },
  {
   "cell_type": "markdown",
   "metadata": {},
   "source": [
    "<div class=\"alert alert-success\">\n",
    "Calculate the following:  \n",
    "\n",
    "$\\cos(2\\pi)$  \n",
    "$\\ln(2\\mathrm{e})-\\ln(2)$  \n",
    "$\\log_{10}(10)$  \n",
    "    \n",
    "    \n",
    "The <span style=\"font-family:monospace\">math</span> function for $\\log_{10}$ is <span style=\"font-family:monospace\">log10()</span>.\n",
    "</div>"
   ]
  },
  {
   "cell_type": "code",
   "execution_count": null,
   "metadata": {
    "collapsed": true
   },
   "outputs": [],
   "source": []
  },
  {
   "cell_type": "markdown",
   "metadata": {},
   "source": [
    "#  Variables<a id=\"variables\"></a>\n",
    "\n",
    "Many of the code examples we have already seen produce some information. When each code cell is executed, if that code **returns** a result, this is printed directly underneath the corresponding code cell, next to <span style=\"color:#D64423; font-family:monospace\">Out[ ]:</span>.\n",
    "\n",
    ">```python\n",
    "72/4\n",
    "```"
   ]
  },
  {
   "cell_type": "code",
   "execution_count": null,
   "metadata": {
    "collapsed": false
   },
   "outputs": [],
   "source": []
  },
  {
   "cell_type": "markdown",
   "metadata": {},
   "source": [
    ">```python\n",
    "print(\"Nothing is returned here!\")\n",
    "```"
   ]
  },
  {
   "cell_type": "code",
   "execution_count": null,
   "metadata": {
    "collapsed": false
   },
   "outputs": [],
   "source": []
  },
  {
   "cell_type": "markdown",
   "metadata": {},
   "source": [
    "<span style=\"font-family:monospace\"><span style=\"color:#046308\">print</span>()</span> is another function, like `math.sqrt()` or `math.log()`. Instead of performing a mathematical calculation, <span style=\"font-family:monospace\"><span style=\"color:#046308\">print</span>()</span> just prints whatever is inside the brackets. In this example, this is exactly what happened. The text is printed to the screen, but the <span style=\"font-family:monospace\"><span style=\"color:#046308\">print</span>()</span> function does not return a value.\n",
    "\n",
    "<span style=\"font-family:monospace\"><span style=\"color:#046308\">print</span>()</span> can print more than one variable if these are separated by commas:\n",
    "\n",
    ">```python\n",
    "print(\"72/4 =\",72/4)\n",
    "```"
   ]
  },
  {
   "cell_type": "code",
   "execution_count": null,
   "metadata": {
    "collapsed": false
   },
   "outputs": [],
   "source": []
  },
  {
   "cell_type": "markdown",
   "metadata": {},
   "source": [
    "Import statements are another example of code that does not return anything.\n",
    "\n",
    ">```python\n",
    "from math import sqrt\n",
    "```"
   ]
  },
  {
   "cell_type": "code",
   "execution_count": null,
   "metadata": {
    "collapsed": false
   },
   "outputs": [],
   "source": []
  },
  {
   "cell_type": "markdown",
   "metadata": {},
   "source": [
    "If you run an code cell and nothing appears underneath, the code ran okay (and hopefully did what you expected). Any output under a cell will either be the **returned** result, or an error."
   ]
  },
  {
   "cell_type": "markdown",
   "metadata": {},
   "source": [
    "One aspect that makes programmatic data analysis useful comes from the ability to write complex procedures with many steps, that are then performed *identically* every time the code is run against new data sets. To build up more sophisticated data analysis workflows, we often want to keep a result of one step, to use in a later step. Storing results in computer memory is called **assigning** **variables**. A variable is just a name; a sequence of letters and numbers; that labels the stored result. Then, to access the value stored in the variable, we can use the label (the variable name) to refer to the original result.\n",
    "\n",
    ">```python\n",
    "# calculate 2 + 3\n",
    "2 + 3\n",
    "```"
   ]
  },
  {
   "cell_type": "code",
   "execution_count": null,
   "metadata": {
    "collapsed": false
   },
   "outputs": [],
   "source": []
  },
  {
   "cell_type": "markdown",
   "metadata": {},
   "source": [
    ">```python\n",
    "# calculate 2 + 3 and store the result in the variable `my_result`\n",
    "my_result = 2 + 3\n",
    "```"
   ]
  },
  {
   "cell_type": "code",
   "execution_count": null,
   "metadata": {
    "collapsed": true
   },
   "outputs": [],
   "source": []
  },
  {
   "cell_type": "markdown",
   "metadata": {},
   "source": [
    "Notice there is no return value printed to <span style=\"color:#D64423; font-family:monospace\">Out[ ]:</span>.  \n",
    "Instead a variable `my_result` is created, and the value returned by the calculation is stored here.  \n",
    "\n",
    "Variable names can be nearly anything, as long as that name is not already used for some part of Python (e.g. `print`). Two limitations are they cannot begin with a number (but can contain numbers), and they cannot contain spaces. Underscores are commonly used instead of spaces to keep the code readable.\n",
    "\n",
    ">```python\n",
    "1st_result = 2 + 3\n",
    "```"
   ]
  },
  {
   "cell_type": "code",
   "execution_count": null,
   "metadata": {
    "collapsed": false
   },
   "outputs": [],
   "source": []
  },
  {
   "cell_type": "markdown",
   "metadata": {},
   "source": [
    ">```python\n",
    "this result = 2 + 3\n",
    "```"
   ]
  },
  {
   "cell_type": "code",
   "execution_count": null,
   "metadata": {
    "collapsed": false
   },
   "outputs": [],
   "source": []
  },
  {
   "cell_type": "markdown",
   "metadata": {},
   "source": [
    "To check the value stored in a variable we can just type the variable name (which returns the stored value), or use `print()`.\n",
    "\n",
    ">```python\n",
    "my_result\n",
    "```"
   ]
  },
  {
   "cell_type": "code",
   "execution_count": null,
   "metadata": {
    "collapsed": false
   },
   "outputs": [],
   "source": []
  },
  {
   "cell_type": "markdown",
   "metadata": {},
   "source": [
    ">```python\n",
    "print( my_result )\n",
    "```"
   ]
  },
  {
   "cell_type": "code",
   "execution_count": null,
   "metadata": {
    "collapsed": false
   },
   "outputs": [],
   "source": []
  },
  {
   "cell_type": "markdown",
   "metadata": {},
   "source": [
    "Variables can be used to store raw numbers, and can then be used for calculations.\n",
    "\n",
    ">```python\n",
    "the_number_six = 6\n",
    "my_result + the_number_six\n",
    "```"
   ]
  },
  {
   "cell_type": "code",
   "execution_count": null,
   "metadata": {
    "collapsed": false
   },
   "outputs": [],
   "source": []
  },
  {
   "cell_type": "markdown",
   "metadata": {},
   "source": [
    "Any code that uses variables may itself return a further result, which can be assigned to a new variable, and used later (and so on).\n",
    "\n",
    ">```python\n",
    "yet_another_variable = my_result + the_number_six\n",
    "print( yet_another_variable )\n",
    "```"
   ]
  },
  {
   "cell_type": "code",
   "execution_count": null,
   "metadata": {
    "collapsed": false
   },
   "outputs": [],
   "source": []
  },
  {
   "cell_type": "markdown",
   "metadata": {},
   "source": [
    "If you refer to a variable that has not yet been created you will get an error.\n",
    "\n",
    ">```python\n",
    "favourite_fruit = bananas\n",
    "```"
   ]
  },
  {
   "cell_type": "code",
   "execution_count": null,
   "metadata": {
    "collapsed": false
   },
   "outputs": [],
   "source": []
  },
  {
   "cell_type": "markdown",
   "metadata": {},
   "source": [
    "<div class=\"alert alert-success\">\n",
    "Create three variables, $x$, $y$, and $z$, and use them to store the numbers $5,6,7$.  \n",
    "\n",
    "Using these variables, calculate:  \n",
    "$5+6+7$, and  \n",
    "$(5+6)*7$.\n",
    "</div>"
   ]
  },
  {
   "cell_type": "markdown",
   "metadata": {},
   "source": [
    "## Data types<a id=\"data_types\"></a>\n",
    "\n",
    "So far we have talked about &ldquo;data&rdquo; and &ldquo;results&rdquo;, but what are the pieces of information that we want to manipulate? Typically numbers (or groups of numbers) or text (or lists of text). Different kinds of data can be used for different things: numbers can be combined in mathematical expressions, text can be printed, searched, or reorganised; numbers can be arranged by magnitude, names can be arranged by alphabetical order. In Python, these differences are represented by different **data types**.\n",
    "\n",
    "### Numbers: *int* and *float*<a id=\"numbers\"></a>\n",
    "\n",
    "We will discuss two kinds of numeric types: integers and floating point numbers. Python has other built in numeric data types, including complex numbers, which are useful in specialised cases.\n",
    "\n",
    "Whole numbers, without decimal points are integers, e.g. <span style=\"color:#108714; font-family:monospace\">1</span>, <span style=\"color:#108714; font-family:monospace\">6</span>, <span style=\"color:#108714; font-family:monospace\">2331</span>.  \n",
    "Numbers with decimal points are floating point numbers or &ldquo;floats&rdquo;, e.g. <span style=\"color:#108714; font-family:monospace\">1.0</span>, <span style=\"color:#108714; font-family:monospace\">232.141</span>, <span style=\"color:#108714; font-family:monospace\">1.3e5</span>.  \n",
    "That last example uses scientific notation and is shorthand for <span style=\"color:#108714; font-family:monospace\">130000.0</span>.\n",
    "\n",
    "Note that <span style=\"color:#108714; font-family:monospace\">1</span> and <span style=\"color:#108714; font-family:monospace\">1.0</span> are different:\n",
    "\n",
    ">```python\n",
    "type(1) # `type()` returns the data-type of something\n",
    "```"
   ]
  },
  {
   "cell_type": "code",
   "execution_count": null,
   "metadata": {
    "collapsed": false
   },
   "outputs": [],
   "source": []
  },
  {
   "cell_type": "markdown",
   "metadata": {},
   "source": [
    ">```python\n",
    "type(1.0)\n",
    "```"
   ]
  },
  {
   "cell_type": "code",
   "execution_count": null,
   "metadata": {
    "collapsed": false
   },
   "outputs": [],
   "source": []
  },
  {
   "cell_type": "markdown",
   "metadata": {},
   "source": [
    ">```python\n",
    "1 is 1.0 # `is` tests whether two things are the same\n",
    "```"
   ]
  },
  {
   "cell_type": "code",
   "execution_count": null,
   "metadata": {
    "collapsed": false
   },
   "outputs": [],
   "source": []
  },
  {
   "cell_type": "markdown",
   "metadata": {},
   "source": [
    "Even though they both represent the number one, and have equal values (yes, this can be confusing), `1` and `1.0` are not **the same** because the first is an integer and the second is a float.  \n",
    "\n",
    "To reassure ourselves slightly, we can test whether two things are equal using `==`\n",
    "\n",
    ">```python\n",
    "1 == 1.0\n",
    "```"
   ]
  },
  {
   "cell_type": "code",
   "execution_count": null,
   "metadata": {
    "collapsed": false
   },
   "outputs": [],
   "source": []
  },
  {
   "cell_type": "markdown",
   "metadata": {},
   "source": [
    "A common mistake is confusing &ldquo;is equal to&rdquo; (`==`) with variable assignment (`=`).\n",
    "\n",
    ">```python\n",
    "1 = 1.0\n",
    "```"
   ]
  },
  {
   "cell_type": "code",
   "execution_count": null,
   "metadata": {
    "collapsed": false
   },
   "outputs": [],
   "source": []
  },
  {
   "cell_type": "markdown",
   "metadata": {},
   "source": [
    "This gives an error, because we are trying to assign the floating point number <span style=\"color:#108714; font-family:monospace\">1.0</span> to the variable `1`, which is not a valid variable name (it is already used to represent the integer <span style=\"color:#108714; font-family:monospace\">1</span>)."
   ]
  },
  {
   "cell_type": "markdown",
   "metadata": {},
   "source": [
    "### Strings<a id=\"strings\"></a>\n",
    "\n",
    "Strings are any sequence of text. We indicate that a sequence of text is a string, and not a Python command, by enclosing it in single or double quotes. Being able to use either quote type allows strings that themselves contain quotes.\n",
    "\n",
    ">```python\n",
    "'this is a string using single quotes'\n",
    "```"
   ]
  },
  {
   "cell_type": "code",
   "execution_count": null,
   "metadata": {
    "collapsed": false
   },
   "outputs": [],
   "source": []
  },
  {
   "cell_type": "markdown",
   "metadata": {},
   "source": [
    ">```python\n",
    "\"this is a string using double quotes\"\n",
    "```"
   ]
  },
  {
   "cell_type": "code",
   "execution_count": null,
   "metadata": {
    "collapsed": true
   },
   "outputs": [],
   "source": []
  },
  {
   "cell_type": "markdown",
   "metadata": {
    "collapsed": false
   },
   "source": [
    ">```python\n",
    "'this string has \"nested quotes\"'\n",
    "```"
   ]
  },
  {
   "cell_type": "code",
   "execution_count": null,
   "metadata": {
    "collapsed": false
   },
   "outputs": [],
   "source": []
  },
  {
   "cell_type": "markdown",
   "metadata": {},
   "source": [
    "### Lists<a id=\"lists\"></a>\n",
    "\n",
    "Python also contains built-in data types for collections of things. For data analysis we often deal with sets of numbers. These can be collected in **lists**.\n",
    "\n",
    "A list is denoted by a series separated by commas, and enclosed in square brackets:\n",
    "\n",
    ">```python\n",
    "my_list = [ 1, 2, 3, 4 ]\n",
    "mylist\n",
    "```"
   ]
  },
  {
   "cell_type": "code",
   "execution_count": null,
   "metadata": {
    "collapsed": false
   },
   "outputs": [],
   "source": []
  },
  {
   "cell_type": "markdown",
   "metadata": {},
   "source": [
    "although lists can contain any set of Python objects, even other lists:\n",
    "\n",
    ">```python\n",
    "my_other_list = [ 4, 1.5, 'peach' ]\n",
    "my_other_list\n",
    "```"
   ]
  },
  {
   "cell_type": "code",
   "execution_count": null,
   "metadata": {
    "collapsed": false
   },
   "outputs": [],
   "source": []
  },
  {
   "cell_type": "markdown",
   "metadata": {},
   "source": [
    ">```python\n",
    "both_lists = [ my_list, my_other_list ]\n",
    "both_lists\n",
    "```"
   ]
  },
  {
   "cell_type": "code",
   "execution_count": null,
   "metadata": {
    "collapsed": false
   },
   "outputs": [],
   "source": []
  },
  {
   "cell_type": "markdown",
   "metadata": {},
   "source": [
    "To refer to one element in a list, use the **index** of that element. Index numbering counts the number of jumps along the sequence, so starts at zero.\n",
    "\n",
    ">```python\n",
    "# 1st element (zero jumps along the sequence)\n",
    "print( my_other_list[0] )\n",
    "# 2nd element (one jump along the sequence)\n",
    "print( my_other_list[1] ) \n",
    "# 3rd element (two jumps along the sequence)\n",
    "print( my_other_list[2] ) \n",
    "```"
   ]
  },
  {
   "cell_type": "code",
   "execution_count": null,
   "metadata": {
    "collapsed": false
   },
   "outputs": [],
   "source": []
  },
  {
   "cell_type": "markdown",
   "metadata": {},
   "source": [
    "Using an index outside the range of elements in the list will produce an error. For example, `my_other_list` has three elements, but `my_other_list[3]` tries to return the *4th* element (which does not exist)\n",
    "\n",
    ">```python\n",
    "print( my_other_list[3] )\n",
    "```"
   ]
  },
  {
   "cell_type": "code",
   "execution_count": null,
   "metadata": {
    "collapsed": false
   },
   "outputs": [],
   "source": []
  },
  {
   "cell_type": "markdown",
   "metadata": {
    "collapsed": true
   },
   "source": [
    "You can also refer to a sequence of elements by giving a *range* as the index:"
   ]
  },
  {
   "cell_type": "code",
   "execution_count": null,
   "metadata": {
    "collapsed": true
   },
   "outputs": [],
   "source": [
    "# run this cell to create the list `alphabet`\n",
    "alphabet = [ 'a', 'b', 'c', 'd', 'e', 'f', 'g', \n",
    "             'h', 'i', 'j', 'k', 'l', 'm', 'n', \n",
    "             'o', 'p', 'q', 'r', 's', 't', 'u',\n",
    "             'v', 'w', 'x', 'y', 'z' ]"
   ]
  },
  {
   "cell_type": "markdown",
   "metadata": {},
   "source": [
    ">```python\n",
    "alphabet[3:8]\n",
    "```\n",
    "\n",
    "→ start from three jumps, finish at eight jumps, i.e. elements 4 to 9."
   ]
  },
  {
   "cell_type": "code",
   "execution_count": null,
   "metadata": {
    "collapsed": false
   },
   "outputs": [],
   "source": []
  },
  {
   "cell_type": "markdown",
   "metadata": {},
   "source": [
    "Negative numbers count backwards from the end of the sequence.\n",
    "\n",
    ">```python\n",
    "alphabet[-8:-3]\n",
    "```\n",
    "\n",
    "→ 9th from the end up to 4th from the end."
   ]
  },
  {
   "cell_type": "code",
   "execution_count": null,
   "metadata": {
    "collapsed": false
   },
   "outputs": [],
   "source": []
  },
  {
   "cell_type": "markdown",
   "metadata": {},
   "source": [
    "And leaving out one of the numbers in the range will include all elements up to the start or end of the sequence.\n",
    "\n",
    ">```python\n",
    "alphabet[14:]\n",
    "```"
   ]
  },
  {
   "cell_type": "code",
   "execution_count": null,
   "metadata": {
    "collapsed": false
   },
   "outputs": [],
   "source": []
  },
  {
   "cell_type": "markdown",
   "metadata": {},
   "source": [
    ">```python\n",
    "alphabet[:14]\n",
    "```"
   ]
  },
  {
   "cell_type": "code",
   "execution_count": null,
   "metadata": {
    "collapsed": false
   },
   "outputs": [],
   "source": []
  },
  {
   "cell_type": "markdown",
   "metadata": {},
   "source": [
    "# numpy and arrays<a id='numpy'></a>\n",
    "\n",
    "Although lists can be very useful for handling ordered collections of things, for data manipulation we usually deal with ordered lists of only numbers. The flexibility of lists means using them is (relatively) computationally slow. This is not an issue for small data sets, but can be prohibitive for large data sets, with perhaps millions or more entries.\n",
    "\n",
    "An alternative data type, specifically designed for manipulating (large) numerical data sets is the **numpy array**. `numpy` is a module for numerical scientific computing with Python, and is conventionally imported via\n",
    "\n",
    "```python\n",
    "import numpy as np\n",
    "```\n",
    "\n",
    "This is similar to the <span style=\"color:#108714; font-family:monospace; font-weight:bold\">import</span> <span style=\"font-family:monospace\">math</span> we saw [above](#functions_and_modules), but uses the <span style=\"color:#108714; font-family:monospace; font-weight:bold\">as</span> keyword to make `numpy` more convenient to work with.\n",
    "\n",
    ">```python\n",
    "import math as m\n",
    "m.sqrt(4)\n",
    "```"
   ]
  },
  {
   "cell_type": "code",
   "execution_count": null,
   "metadata": {
    "collapsed": true
   },
   "outputs": [],
   "source": []
  },
  {
   "cell_type": "markdown",
   "metadata": {},
   "source": [
    "Having imported `numpy` (as `np`) we can store lists of numbers as `numpy` arrays.\n",
    "\n",
    ">```python\n",
    "import numpy as np\n",
    "a = np.array( [ 1, 2, 3, 4 ] )\n",
    "a\n",
    "```"
   ]
  },
  {
   "cell_type": "code",
   "execution_count": null,
   "metadata": {
    "collapsed": false
   },
   "outputs": [],
   "source": []
  },
  {
   "cell_type": "markdown",
   "metadata": {},
   "source": [
    "You can think of a 1-dimensional `numpy` array as a vector, and we can use very compact code to perform *vector* mathematical operations on the entire array.\n",
    "\n",
    ">```python\n",
    "a + 1\n",
    "```"
   ]
  },
  {
   "cell_type": "code",
   "execution_count": null,
   "metadata": {
    "collapsed": false
   },
   "outputs": [],
   "source": []
  },
  {
   "cell_type": "markdown",
   "metadata": {},
   "source": [
    ">```python\n",
    "a**2\n",
    "```\n",
    "\n",
    "Remember that `**` is the $power$ operator. This code calculates $a^2$ for every number stored in `a`."
   ]
  },
  {
   "cell_type": "code",
   "execution_count": null,
   "metadata": {
    "collapsed": false
   },
   "outputs": [],
   "source": []
  },
  {
   "cell_type": "markdown",
   "metadata": {},
   "source": [
    "In both these cases, the mathematical operation (add one; square) is applied to every element in the array, and a new array with *all* the results is returned.\n",
    "\n",
    "If the mathematical expression contains two (or more) arrays, then an **element-by-element** operation is performed:\n",
    "\n",
    "e.g. vector addition:\n",
    "\n",
    ">```python\n",
    "b = np.array( [ 5, 6, 7, 8 ] )\n",
    "a + b\n",
    "```"
   ]
  },
  {
   "cell_type": "code",
   "execution_count": null,
   "metadata": {
    "collapsed": false
   },
   "outputs": [],
   "source": []
  },
  {
   "cell_type": "markdown",
   "metadata": {},
   "source": [
    ">```python\n",
    "a * b\n",
    "```"
   ]
  },
  {
   "cell_type": "code",
   "execution_count": null,
   "metadata": {
    "collapsed": false
   },
   "outputs": [],
   "source": []
  },
  {
   "cell_type": "markdown",
   "metadata": {},
   "source": [
    "Let us try to calculate the square root of all the numbers in `a`:\n",
    "\n",
    ">```python\n",
    "from math import sqrt\n",
    "sqrt(a)\n",
    "```"
   ]
  },
  {
   "cell_type": "code",
   "execution_count": null,
   "metadata": {
    "collapsed": false
   },
   "outputs": [],
   "source": []
  },
  {
   "cell_type": "markdown",
   "metadata": {},
   "source": [
    "This gives an error.  \n",
    "\n",
    "Because `numpy` is not part of the standard Python library, the `sqrt` function provided by the `math` module does not know how to treat a `numpy` array of numbers. To do what we want we can use the `sqrt` function in `numpy` instead. \n",
    "\n",
    ">```python\n",
    "np.sqrt(a)\n",
    "```"
   ]
  },
  {
   "cell_type": "code",
   "execution_count": null,
   "metadata": {
    "collapsed": false
   },
   "outputs": [],
   "source": []
  },
  {
   "cell_type": "markdown",
   "metadata": {},
   "source": [
    "`numpy` contains a great many functions for performing mathematical operations on arrays of numbers, which are all listed on the [`numpy` website](https://docs.scipy.org/doc/numpy/reference/routines.math.html)."
   ]
  },
  {
   "cell_type": "markdown",
   "metadata": {},
   "source": [
    "Often, we will want to use `numpy` arrays to store experimental data. Other times we might just want a list of number, e.g. from 1 to 20. We could write these out to create the array:\n",
    "\n",
    "```python\n",
    "one_to_twenty = np.array( [ 1, 2, 3, 4, 5, 6, 7, 8, 9, 10, 11, 12, 13, 14, 15, 16, 17, 18, 19, 20 ] )\n",
    "```\n",
    "\n",
    "To save typing (and make your code easier to read) `numpy` contains a function for creating lists of numbers:\n",
    "\n",
    ">```python\n",
    "n = np.arange(1,21)\n",
    "n\n",
    "```"
   ]
  },
  {
   "cell_type": "code",
   "execution_count": null,
   "metadata": {
    "collapsed": false
   },
   "outputs": [],
   "source": []
  },
  {
   "cell_type": "markdown",
   "metadata": {},
   "source": [
    "Notice that `arange` gives us numbers starting from 1, up to, but not including, 21.  \n",
    "\n",
    "We can generate lists of numbers with different spacings by providing a step-size (which has a default value of 1)\n",
    "\n",
    ">```python\n",
    "m = np.arange(2,21,2)\n",
    "m\n",
    "```"
   ]
  },
  {
   "cell_type": "code",
   "execution_count": null,
   "metadata": {
    "collapsed": false
   },
   "outputs": [],
   "source": []
  }
 ],
 "metadata": {
  "kernelspec": {
   "display_name": "Python 3",
   "language": "python",
   "name": "python3"
  },
  "language_info": {
   "codemirror_mode": {
    "name": "ipython",
    "version": 3
   },
   "file_extension": ".py",
   "mimetype": "text/x-python",
   "name": "python",
   "nbconvert_exporter": "python",
   "pygments_lexer": "ipython3",
   "version": "3.5.2"
  }
 },
 "nbformat": 4,
 "nbformat_minor": 2
}
