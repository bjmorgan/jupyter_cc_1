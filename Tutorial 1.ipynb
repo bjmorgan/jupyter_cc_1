{
 "cells": [
  {
   "cell_type": "markdown",
   "metadata": {
    "deletable": true,
    "editable": true
   },
   "source": [
    "# Data Analysis with Jupyter Notebooks.\n",
    "\n",
    "# Tutorial 1\n",
    "\n",
    "Benjamin J. Morgan, University of Bath."
   ]
  },
  {
   "cell_type": "markdown",
   "metadata": {
    "deletable": true,
    "editable": true
   },
   "source": [
    "# Contents\n",
    "\n",
    "- [Data Analysis with Jupyter Notebooks](#intro)\n",
    "    - [Why analyse data with computer code?](#why)\n",
    "- [Getting Started with Jupyter Notebooks](#getting_started)\n",
    "- [Running Code](#running_code)\n",
    "- [Simple Calculations](#simple_calculations)\n",
    "- [Comments and Markdown cells](#comments)\n",
    "- [Mathematical Functions and Modules](#functions_and_modules)\n",
    "- [Variables](#variables)"
   ]
  },
  {
   "cell_type": "markdown",
   "metadata": {
    "deletable": true,
    "editable": true
   },
   "source": [
    "# Data Analysis with Jupyter Notebooks<a id=\"intro\"></a>\n",
    "\n",
    "This is a Jupyter notebook. In some ways each document is like a physical notebook. It can be used for describing an experiment, recording data, and commenting on it. Unlike a physical notebook, a Jupyter notebook also allows you to run and easily share computer code. This combination makes Jupyter notebooks a very useful tool for analysing data collected from experiments. Unlike spreadsheets or combinations of separate data analysis codes, a Jupyter notebook allows you to collect desciptions and notes for individual experiments, links to the raw data collected, the computer code that performs any necessary data analysis, and the final figures generated with these data, ready for use in a report or published paper.\n",
    "\n",
    "## Why analyse data using code?<a id=\"id\"></a>\n",
    "Using computer code allows you to analyse experimental data *programmatically*. All the steps for working with your data are carried out according to a *program*; a predefined series of instructions; like a recipe for a particular meal. \n",
    "\n",
    "Once a particular program has been written, it will always produce the same results with the same starting data. This makes it possible to &ldquo;show your working&rdquo;. Scientists presenting new results can share their original data, alongside the code that they used for all their analysis. This has a number of benefits. Other scientists can review the code, run it against the original data set, and check that any analysis has been done correctly. \n",
    "\n",
    "Finished code can also be used as a starting point for looking at a similar set of data. The original scientist might repeat their experiment to confirm their results, or another group might collect data under slightly different conditions, and want to compare the two cases. Often the steps described by the code are the same for small data sets and for large data sets. Once an analysis program exists, processing enormous data sets simply becomes a question of access to sufficiently powerful computers. "
   ]
  },
  {
   "cell_type": "markdown",
   "metadata": {
    "deletable": true,
    "editable": true
   },
   "source": [
    "# Getting Started with Jupyter Notebooks<a id='getting_started'></a>\n",
    "\n",
    "A Jupyter notebook consists of a series of **cells** that contain text. These cells are arranged vertically, top-to-bottom in the document. Any cell can be edited by clicking on it. A cell in **edit mode** is indicated by a green border. \n",
    "<img style=\"width:700px\" src='figures/target_cell.png' />\n",
    "A cell with a blue border is in **command mode**. \n",
    "<img style=\"width:700px\" src='figures/command_mode_cell.png' />\n",
    "In command mode you are not able to type into a cell, but you can still edit the notebook (reordering cells, executing code, etc.) Commands for editing notebooks can be accessed from the manu at the top of the screen, and commonly used commands have keyboard shortcuts, which will be highlighted in examples using <span style=\"color:green\">green text</span>. The full list of keyboard shortcuts can be found through Help > Keyboard Shortcuts in the menu.\n",
    "\n",
    "To edit a cell in command mode, press enter or double click on the cell."
   ]
  },
  {
   "cell_type": "markdown",
   "metadata": {
    "collapsed": true,
    "deletable": true,
    "editable": true
   },
   "source": [
    "## Running Code<a id=\"running_code\"></a> \n",
    "\n",
    "The Jupyter notebook is primarily useful for writing and running code. A large number of different computer languages can be used in Jupyter notebooks. In these examples, we will be using Python (specifically Python 3). Python is increasingly used across a large number of scientific disciplines for data management and analysis. The large scientific community means that very good resources already exist for data processing, such as the Jupyter project, and specific prewritten tools for manipulating and plotting data.\n",
    "\n",
    "This course will not go into detail about how to write your own Python code. Instead, as much as possible we are going to focus on learning how to use readily available packages for data analysis. There are plenty of resources for learning Python for more traditional programming tasks, such as the tutorials at [Code Academy](https://www.codecademy.com/learn/python).\n",
    "\n",
    "The default cell type in a Jupyter notebook is a **code** cell. If you open a new notebook it will have one, empty, code cell. And you can always create more cells by clicking in the menu on Insert > Insert Cell Above (<span style=\"color:green\">a</span>) or Insert > Insert Cell Below (<span style=\"color:green\">b</span>).  \n",
    "<img style=\"width:550px\" src='figures/insert_cell.png'/>\n",
    "Any code typed into a code cell can be run (or \"**executed**\") by pressing `Shift-Enter` or pressing the <img style='display:inline; height:1.5em; vertical-align: bottom;' src='figures/run_code_button.png'/> button in the notebook toolbar.\n",
    "\n",
    "This practical consists of an interactive tutorial (this notebook), followed by a a series of exercises. Some code cells in the tutorial will already have code in them, which you can **run** by selecting and pressing `Shift-Enter` or clicking the toolbar button:"
   ]
  },
  {
   "cell_type": "code",
   "execution_count": null,
   "metadata": {
    "collapsed": false,
    "deletable": true,
    "editable": true
   },
   "outputs": [],
   "source": [
    "2+3 # run this cell…"
   ]
  },
  {
   "cell_type": "markdown",
   "metadata": {
    "deletable": true,
    "editable": true
   },
   "source": [
    "You should now have <span style=\"color:#D64423; font-family:monospace\">Out[ ]:</span> with the result of running this code printed next to it:\n",
    "<img style=\"width:590px\" src='figures/output.png'/>\n",
    "and the focus has automatically moved to the next cell. You can always re-select a cell to run it again.\n",
    "\n",
    "Most of the code examples will be presented like this:\n",
    "\n",
    ">```python\n",
    "print(\"hello\")\n",
    "```\n",
    "\n",
    "with an empty code cell underneath. These examples are for you to type into the empty code cell and then run. Do not copy and paste these. You will learn the concepts faster and become comfortable with writing your own code if you type each piece of code out.\n",
    "\n",
    "Start with this example:\n",
    "\n",
    ">```python\n",
    "print(\"hello\")\n",
    "```"
   ]
  },
  {
   "cell_type": "code",
   "execution_count": null,
   "metadata": {
    "collapsed": false,
    "deletable": true,
    "editable": true
   },
   "outputs": [],
   "source": [
    "print( \"hello\" )"
   ]
  },
  {
   "cell_type": "markdown",
   "metadata": {
    "deletable": true,
    "editable": true
   },
   "source": [
    "Your output should be\n",
    "\n",
    "```\n",
    "hello\n",
    "```"
   ]
  },
  {
   "cell_type": "markdown",
   "metadata": {
    "deletable": true,
    "editable": true
   },
   "source": [
    "There will also be small exercises that ask you to write your own piece of code from scratch, or modify an example that is not finished yet; it might contain an error – often called a **bug**, or just not do exactly what we would like. These will be in green boxes."
   ]
  },
  {
   "cell_type": "markdown",
   "metadata": {
    "deletable": true,
    "editable": true
   },
   "source": [
    "<div class=\"alert alert-success\"> \n",
    "<b>Edit</b> the <span style=\"font-family:monospace;\">print</span> statement below, so that when you run the cell it prints your name.\n",
    "</div>"
   ]
  },
  {
   "cell_type": "code",
   "execution_count": null,
   "metadata": {
    "collapsed": false,
    "deletable": true,
    "editable": true
   },
   "outputs": [],
   "source": [
    "# Type your code into this cell and run it.\n",
    "print(\"My name\")"
   ]
  },
  {
   "cell_type": "markdown",
   "metadata": {
    "deletable": true,
    "editable": true
   },
   "source": [
    "<div class=\"alert alert-success\">\n",
    "Type new code into the cell below to print today's date.\n",
    "</div>"
   ]
  },
  {
   "cell_type": "code",
   "execution_count": 12,
   "metadata": {
    "collapsed": false,
    "deletable": true,
    "editable": true
   },
   "outputs": [],
   "source": [
    "# Type your code into this cell and run it."
   ]
  },
  {
   "cell_type": "markdown",
   "metadata": {
    "collapsed": true,
    "deletable": true,
    "editable": true
   },
   "source": [
    "## Simple calculations<a id=\"simple_calculations\"></a>\n",
    "\n",
    "One of the simplest forms of &ldquo;code&rdquo; that can be run in code cells is mathematical expressions:\n",
    "\n",
    ">```python\n",
    "1+2+3+4\n",
    "```"
   ]
  },
  {
   "cell_type": "code",
   "execution_count": null,
   "metadata": {
    "collapsed": false,
    "deletable": true,
    "editable": true
   },
   "outputs": [],
   "source": []
  },
  {
   "cell_type": "markdown",
   "metadata": {
    "deletable": true,
    "editable": true
   },
   "source": [
    ">```python\n",
    "4*5/2\n",
    "```"
   ]
  },
  {
   "cell_type": "code",
   "execution_count": null,
   "metadata": {
    "collapsed": false,
    "deletable": true,
    "editable": true
   },
   "outputs": [],
   "source": []
  },
  {
   "cell_type": "markdown",
   "metadata": {
    "deletable": true,
    "editable": true
   },
   "source": [
    ">```python\n",
    "2**4 - 2\n",
    "```"
   ]
  },
  {
   "cell_type": "code",
   "execution_count": null,
   "metadata": {
    "collapsed": false,
    "deletable": true,
    "editable": true,
    "scrolled": true
   },
   "outputs": [],
   "source": []
  },
  {
   "cell_type": "markdown",
   "metadata": {
    "deletable": true,
    "editable": true
   },
   "source": [
    "`**` is the &ldquo;power&rdquo; operator. This code calculates $2^4 - 2$."
   ]
  },
  {
   "cell_type": "markdown",
   "metadata": {
    "deletable": true,
    "editable": true
   },
   "source": [
    "<div class=\"alert alert-success\">\n",
    "Perform the following calculations in the three cells below:  \n",
    "    $1+1+2+3+5+8$   \n",
    "    $1*2*3*4*5*6$  \n",
    "    $2^{10}$\n",
    "</div>"
   ]
  },
  {
   "cell_type": "code",
   "execution_count": null,
   "metadata": {
    "collapsed": false,
    "deletable": true,
    "editable": true
   },
   "outputs": [],
   "source": []
  },
  {
   "cell_type": "code",
   "execution_count": null,
   "metadata": {
    "collapsed": false
   },
   "outputs": [],
   "source": []
  },
  {
   "cell_type": "code",
   "execution_count": null,
   "metadata": {
    "collapsed": false
   },
   "outputs": [],
   "source": []
  },
  {
   "cell_type": "markdown",
   "metadata": {
    "deletable": true,
    "editable": true
   },
   "source": [
    "## Explain Your Code: Comments and Markdown Cells<a id=\"comments\"></a>\n",
    "One of the advantages of using *code* for numerical calculations and data analysis is that you end up with a record of exactly what you have done. You, or anyone else, can read the code, to understand how you reached your answer. You can think of this as &ldquo;showing your working&rdquo;, and it can be very helpful if you want to solve a *similar* problem in the future.\n",
    "\n",
    "Often, reading only the code can get quite cryptic (it is called &ldquo;code&rdquo;, after all), which makes it difficult to understand what is happening. To explain what a particular piece of code does, or to explain *why* a piece of code is being used, you can include **comments**.\n",
    "\n",
    " \n",
    "```python\n",
    "# this is a comment\n",
    "```\n",
    "\n",
    "Any text that appears after a <span style=\"font-family:monospace; color:#438080\">#</span> symbol is part of the comment, and is ignored when the code is run. \n",
    "\n",
    "Jupyter notebooks offer a second way to describe what you are doing: **Markdown cells**. A code cell can be converted to a Markdown cell by selecting Cell > Cell Type > Markdown from the menu.  \n",
    "<img src='figures/markdown.png', width=350/>  \n",
    "A Markdown cell can be used to type plain text, which is displayed when the cell is run. Markdown cells are useful for documenting a notebook, particularly when you want to write something more detailed than a short comment. Markdown cells can also contain basic text formatting, links, images, and equations (more information is [here](http://jupyter-notebook.readthedocs.io/en/latest/examples/Notebook/Working%20With%20Markdown%20Cells.html))."
   ]
  },
  {
   "cell_type": "markdown",
   "metadata": {
    "deletable": true,
    "editable": true
   },
   "source": [
    "<div class=\"alert alert-success\">\n",
    "Type a comment into the cell below and run it.\n",
    "</div>"
   ]
  },
  {
   "cell_type": "code",
   "execution_count": null,
   "metadata": {
    "collapsed": true
   },
   "outputs": [],
   "source": []
  },
  {
   "cell_type": "markdown",
   "metadata": {},
   "source": [
    "<div class=\"alert alert-success\">\n",
    "The cell below should be a Markdown cell, but it is currently a code cell.  \n",
    "First run the cell to see what happens.\n",
    "Then change it into a **Markdown** cell, before re-running it. \n",
    "</div>"
   ]
  },
  {
   "cell_type": "code",
   "execution_count": null,
   "metadata": {
    "collapsed": true
   },
   "outputs": [],
   "source": [
    "Markdown cells allow you to type longer text to explain what your code is doing.  \n",
    "Setting this cell to Markdown, and running it will format the text for clearer reading.  \n",
    "Markdown also provides shorthand for including other features such as [links][cheatsheet].\n",
    "\n",
    "[cheatsheet]:https://github.com/adam-p/markdown-here/wiki/Markdown-Cheatsheet"
   ]
  },
  {
   "cell_type": "markdown",
   "metadata": {},
   "source": [
    "To edit a Markdown cell after it has been run, double-click on it to see the raw Markdown code."
   ]
  },
  {
   "cell_type": "markdown",
   "metadata": {},
   "source": [
    "<div class=\"alert alert-success\">\n",
    "Double click on the Markdown output above that starts &ldquo;*Markdown cells allow you to type longer text&hellip;*&rdquo; and add the following Markdown code to it:<br/><br/><span style='font-family:monospace'># My favourite meals are<br/>\n",
    "- Breakfast<br/>\n",
    "- Lunch<br/>\n",
    "- Brunch\n",
    "</span><br/><br/>\n",
    "</div>\n",
    "\n",
    "Then re-run the cell to view the formatted output."
   ]
  },
  {
   "cell_type": "markdown",
   "metadata": {
    "deletable": true,
    "editable": true
   },
   "source": [
    "## Mathematical functions and modules<a id=\"functions_and_modules\"></a>\n",
    "\n",
    "In mathematics, a **function** converts one number to another number; $y=f(x)$.\n",
    "\n",
    "In programming, a **function** is more general than this, and converts an input into an output. For example, if we want to calculate a square root, we can use the `sqrt()` function.\n",
    "\n",
    ">```python\n",
    "sqrt(4)\n",
    "```"
   ]
  },
  {
   "cell_type": "code",
   "execution_count": null,
   "metadata": {
    "collapsed": false,
    "deletable": true,
    "editable": true
   },
   "outputs": [],
   "source": []
  },
  {
   "cell_type": "markdown",
   "metadata": {
    "deletable": true,
    "editable": true
   },
   "source": [
    "This has given us an error:  \n",
    "\n",
    "<span style=\"font-family:monospace\"><span style=\"color:#890004\">NameError</span><span style=\"color:#046308\">: name 'sqrt' is not defined</style></span>. \n",
    "\n",
    "Python has a *lot* of built in commands (functions). Solving any particular problem will only require a small subset of these. To keep Python code efficient, only a minimal set of the available tools are available \"out of the box\". Other commands (such as mathematical functions) are collected in **modules** that we can load, to make these available in our notebook.\n",
    "\n",
    "`sqrt` lives in the `math` module. We can load it like this:\n",
    "\n",
    ">```python\n",
    "from math import sqrt\n",
    "sqrt(4)\n",
    "```"
   ]
  },
  {
   "cell_type": "markdown",
   "metadata": {},
   "source": [
    "<div class=\"alert alert-success\">\n",
    "Edit the last code cell to import the <span style='font-family:monospace'>math</span> function and re-run it. \n",
    "</div>"
   ]
  },
  {
   "cell_type": "markdown",
   "metadata": {
    "deletable": true,
    "editable": true
   },
   "source": [
    "Or we can import the entire math module:\n",
    "\n",
    ">```python\n",
    "import math\n",
    "math.sqrt(4)\n",
    "```"
   ]
  },
  {
   "cell_type": "markdown",
   "metadata": {
    "collapsed": false,
    "deletable": true,
    "editable": true
   },
   "source": [
    "<div class=\"alert alert-success\">\n",
    "Edit the previous code cell again to calculate $\\sqrt 4$ by importing the entire <span style='font-family:monospace; '>math</span> module.\n",
    "</div>"
   ]
  },
  {
   "cell_type": "markdown",
   "metadata": {
    "deletable": true,
    "editable": true
   },
   "source": [
    "You can think of `math.sqrt()` as instructing the computer to &ldquo;use the `sqrt()` function provided inside the  `math` module&rdquo;."
   ]
  },
  {
   "cell_type": "markdown",
   "metadata": {
    "deletable": true,
    "editable": true
   },
   "source": [
    "The `math` module contains a [large set of common mathematical functions](https://docs.python.org/2/library/math.html), and the constants $\\pi$ and $\\mathrm{e}$ (natural logarithm).\n",
    "\n",
    ">```python\n",
    "from math import pi, sin, e, log\n",
    "```\n",
    "\n",
    "The `log` function calculates the natural logarithm, i.e. $\\ln x$."
   ]
  },
  {
   "cell_type": "code",
   "execution_count": null,
   "metadata": {
    "collapsed": false,
    "deletable": true,
    "editable": true
   },
   "outputs": [],
   "source": []
  },
  {
   "cell_type": "markdown",
   "metadata": {
    "deletable": true,
    "editable": true
   },
   "source": [
    ">```python\n",
    "pi\n",
    "```"
   ]
  },
  {
   "cell_type": "code",
   "execution_count": null,
   "metadata": {
    "collapsed": false,
    "deletable": true,
    "editable": true
   },
   "outputs": [],
   "source": []
  },
  {
   "cell_type": "markdown",
   "metadata": {
    "deletable": true,
    "editable": true
   },
   "source": [
    ">```python\n",
    "sin( pi/2 )\n",
    "```"
   ]
  },
  {
   "cell_type": "code",
   "execution_count": null,
   "metadata": {
    "collapsed": false,
    "deletable": true,
    "editable": true
   },
   "outputs": [],
   "source": []
  },
  {
   "cell_type": "markdown",
   "metadata": {
    "deletable": true,
    "editable": true
   },
   "source": [
    ">```python\n",
    "e # natural logarithm\n",
    "```"
   ]
  },
  {
   "cell_type": "code",
   "execution_count": null,
   "metadata": {
    "collapsed": true,
    "deletable": true,
    "editable": true
   },
   "outputs": [],
   "source": []
  },
  {
   "cell_type": "markdown",
   "metadata": {
    "deletable": true,
    "editable": true
   },
   "source": [
    ">```python\n",
    "log(e) # the natural logarithm of e\n",
    "```"
   ]
  },
  {
   "cell_type": "code",
   "execution_count": null,
   "metadata": {
    "collapsed": false,
    "deletable": true,
    "editable": true,
    "scrolled": true
   },
   "outputs": [],
   "source": []
  },
  {
   "cell_type": "markdown",
   "metadata": {
    "deletable": true,
    "editable": true
   },
   "source": [
    ">```python\n",
    "e**2\n",
    "```"
   ]
  },
  {
   "cell_type": "code",
   "execution_count": null,
   "metadata": {
    "collapsed": false,
    "deletable": true,
    "editable": true,
    "scrolled": true
   },
   "outputs": [],
   "source": []
  },
  {
   "cell_type": "markdown",
   "metadata": {
    "deletable": true,
    "editable": true
   },
   "source": [
    "<div class=\"alert alert-success\">\n",
    "Calculate the following:  <br/><br/>\n",
    "\n",
    "  \n",
    "$\\cos(2\\pi)$  <br/><br/>\n",
    "$\\ln(2\\mathrm{e})-\\ln(2)$<br/><br/>\n",
    "$\\log_{10}(10)$  <br/><br/>\n",
    "    \n",
    "    \n",
    "The <span style=\"font-family:monospace\">math</span> function for $\\log_{10}$ is <span style=\"font-family:monospace\">log10()</span>.\n",
    "</div>"
   ]
  },
  {
   "cell_type": "code",
   "execution_count": null,
   "metadata": {
    "collapsed": true,
    "deletable": true,
    "editable": true
   },
   "outputs": [],
   "source": []
  },
  {
   "cell_type": "code",
   "execution_count": null,
   "metadata": {
    "collapsed": true
   },
   "outputs": [],
   "source": []
  },
  {
   "cell_type": "code",
   "execution_count": null,
   "metadata": {
    "collapsed": true
   },
   "outputs": [],
   "source": []
  },
  {
   "cell_type": "markdown",
   "metadata": {
    "deletable": true,
    "editable": true
   },
   "source": [
    "#  Variables<a id=\"variables\"></a>\n",
    "\n",
    "Many of the code examples we have already seen produce some information. When each code cell is executed, if that code **returns** a result, this is printed directly underneath the corresponding code cell, next to <span style=\"color:#D64423; font-family:monospace\">Out[ ]:</span>.\n",
    "\n",
    ">```python\n",
    "72/4\n",
    "```"
   ]
  },
  {
   "cell_type": "code",
   "execution_count": null,
   "metadata": {
    "collapsed": false,
    "deletable": true,
    "editable": true
   },
   "outputs": [],
   "source": []
  },
  {
   "cell_type": "markdown",
   "metadata": {
    "deletable": true,
    "editable": true
   },
   "source": [
    ">```python\n",
    "print(\"Nothing is returned here!\")\n",
    "```"
   ]
  },
  {
   "cell_type": "code",
   "execution_count": null,
   "metadata": {
    "collapsed": false,
    "deletable": true,
    "editable": true
   },
   "outputs": [],
   "source": []
  },
  {
   "cell_type": "markdown",
   "metadata": {
    "deletable": true,
    "editable": true
   },
   "source": [
    "<span style=\"font-family:monospace\"><span style=\"color:#046308\">print</span>()</span> is another function, like `math.sqrt()` or `math.log()`. Instead of performing a mathematical calculation, <span style=\"font-family:monospace\"><span style=\"color:#046308\">print</span>()</span> just prints whatever is inside the brackets. In this example, this is exactly what happened. The text is printed to the screen, but the <span style=\"font-family:monospace\"><span style=\"color:#046308\">print</span>()</span> function does not return a value.\n",
    "\n",
    "<span style=\"font-family:monospace\"><span style=\"color:#046308\">print</span>()</span> can print more than one variable if these are separated by commas:\n",
    "\n",
    ">```python\n",
    "print(\"72/4 =\",72/4)\n",
    "```"
   ]
  },
  {
   "cell_type": "code",
   "execution_count": null,
   "metadata": {
    "collapsed": false,
    "deletable": true,
    "editable": true
   },
   "outputs": [],
   "source": []
  },
  {
   "cell_type": "markdown",
   "metadata": {
    "deletable": true,
    "editable": true
   },
   "source": [
    "Import statements are another example of code that does not return anything.\n",
    "\n",
    ">```python\n",
    "from math import sqrt\n",
    "```"
   ]
  },
  {
   "cell_type": "code",
   "execution_count": null,
   "metadata": {
    "collapsed": false,
    "deletable": true,
    "editable": true
   },
   "outputs": [],
   "source": []
  },
  {
   "cell_type": "markdown",
   "metadata": {
    "deletable": true,
    "editable": true
   },
   "source": [
    "If you run an code cell and nothing appears underneath, the code ran okay (and hopefully did what you expected). Any output under a cell will either be the **returned** result, or an error."
   ]
  },
  {
   "cell_type": "markdown",
   "metadata": {
    "deletable": true,
    "editable": true
   },
   "source": [
    "One aspect that makes programmatic data analysis useful comes from the ability to write complex procedures with many steps, that are then performed *identically* every time the code is run against new data sets. To build up more sophisticated data analysis workflows, we often want to keep a result of one step, to use in a later step. Storing results in computer memory is called **assigning** **variables**. A variable is just a name; a sequence of letters and numbers; that labels the stored result. Then, to access the value stored in the variable, we can use the label (the variable name) to refer to the original result.\n",
    "\n",
    ">```python\n",
    "# calculate 2 + 3\n",
    "2 + 3\n",
    "```"
   ]
  },
  {
   "cell_type": "code",
   "execution_count": null,
   "metadata": {
    "collapsed": false,
    "deletable": true,
    "editable": true
   },
   "outputs": [],
   "source": []
  },
  {
   "cell_type": "markdown",
   "metadata": {
    "deletable": true,
    "editable": true
   },
   "source": [
    ">```python\n",
    "# calculate 2 + 3 and store the result in the variable `my_result`\n",
    "my_result = 2 + 3\n",
    "```"
   ]
  },
  {
   "cell_type": "code",
   "execution_count": null,
   "metadata": {
    "collapsed": true,
    "deletable": true,
    "editable": true
   },
   "outputs": [],
   "source": []
  },
  {
   "cell_type": "markdown",
   "metadata": {
    "deletable": true,
    "editable": true
   },
   "source": [
    "Notice there is no return value printed to <span style=\"color:#D64423; font-family:monospace\">Out[ ]:</span>.  \n",
    "Instead a variable `my_result` is created, and the value returned by the calculation is stored here.  \n",
    "\n",
    "Variable names can be nearly anything, as long as that name is not already used for some part of Python (e.g. `print`). Two limitations are they cannot begin with a number (but can contain numbers), and they cannot contain spaces. Underscores are commonly used instead of spaces to keep the code readable.\n",
    "\n",
    ">```python\n",
    "1st_result = 3 + 4\n",
    "```"
   ]
  },
  {
   "cell_type": "code",
   "execution_count": null,
   "metadata": {
    "collapsed": false,
    "deletable": true,
    "editable": true
   },
   "outputs": [],
   "source": []
  },
  {
   "cell_type": "markdown",
   "metadata": {
    "deletable": true,
    "editable": true
   },
   "source": [
    ">```python\n",
    "this result = 5 + 6\n",
    "```"
   ]
  },
  {
   "cell_type": "code",
   "execution_count": null,
   "metadata": {
    "collapsed": false,
    "deletable": true,
    "editable": true
   },
   "outputs": [],
   "source": []
  },
  {
   "cell_type": "markdown",
   "metadata": {},
   "source": [
    "<div class=\"alert alert-success\">\n",
    "Fix the two previous code cells to use <span style='font-family:monospace;'>first_result</span> and <span style='font-family:monospace;'>this_result</span> so that they will run without errors.\n",
    "</div>"
   ]
  },
  {
   "cell_type": "markdown",
   "metadata": {
    "deletable": true,
    "editable": true
   },
   "source": [
    "To check the value stored in a variable we can just type the variable name, which returns the stored value.\n",
    "\n",
    ">```python\n",
    "my_result\n",
    "```"
   ]
  },
  {
   "cell_type": "code",
   "execution_count": null,
   "metadata": {
    "collapsed": false,
    "deletable": true,
    "editable": true
   },
   "outputs": [],
   "source": []
  },
  {
   "cell_type": "markdown",
   "metadata": {},
   "source": [
    "Note that we only get the **last** value returned if we have multiple lines of code.\n",
    "\n",
    "\n",
    ">```python\n",
    "my_result\n",
    "this_result\n",
    "```"
   ]
  },
  {
   "cell_type": "code",
   "execution_count": null,
   "metadata": {
    "collapsed": false
   },
   "outputs": [],
   "source": []
  },
  {
   "cell_type": "markdown",
   "metadata": {
    "deletable": true,
    "editable": true
   },
   "source": [
    "We can get round this by using the `print` function to print out the value stored in one or more variables\n",
    ">```python\n",
    "print( my_result )\n",
    "print( this_result )\n",
    "```"
   ]
  },
  {
   "cell_type": "code",
   "execution_count": null,
   "metadata": {
    "collapsed": false,
    "deletable": true,
    "editable": true
   },
   "outputs": [],
   "source": []
  },
  {
   "cell_type": "markdown",
   "metadata": {
    "deletable": true,
    "editable": true
   },
   "source": [
    "Variables can be used to store raw numbers, and can then be used for calculations.\n",
    "\n",
    ">```python\n",
    "the_number_six = 6\n",
    "my_result + the_number_six\n",
    "```"
   ]
  },
  {
   "cell_type": "code",
   "execution_count": null,
   "metadata": {
    "collapsed": false,
    "deletable": true,
    "editable": true
   },
   "outputs": [],
   "source": []
  },
  {
   "cell_type": "markdown",
   "metadata": {
    "deletable": true,
    "editable": true
   },
   "source": [
    "Any code that uses variables may itself return a further result, which can be assigned to a new variable, and used later (and so on).\n",
    "\n",
    ">```python\n",
    "yet_another_variable = my_result + the_number_six\n",
    "print( yet_another_variable )\n",
    "```"
   ]
  },
  {
   "cell_type": "code",
   "execution_count": null,
   "metadata": {
    "collapsed": false,
    "deletable": true,
    "editable": true
   },
   "outputs": [],
   "source": []
  },
  {
   "cell_type": "markdown",
   "metadata": {
    "deletable": true,
    "editable": true
   },
   "source": [
    "If you refer to a variable that has not yet been created you will get an error.\n",
    "\n",
    ">```python\n",
    "print( bananas )\n",
    "```"
   ]
  },
  {
   "cell_type": "code",
   "execution_count": null,
   "metadata": {
    "collapsed": false,
    "deletable": true,
    "editable": true
   },
   "outputs": [],
   "source": []
  },
  {
   "cell_type": "markdown",
   "metadata": {},
   "source": [
    "<div class=\"alert alert-success\">\n",
    "Edit the code cell above so to print <span style='font-family:monospace;'>\"bananas\"</span> (the quotes are part of the new code), and re-run the cell.\n",
    "</div>"
   ]
  },
  {
   "cell_type": "markdown",
   "metadata": {
    "deletable": true,
    "editable": true
   },
   "source": [
    "<div class=\"alert alert-success\">\n",
    "Create three variables, $x$, $y$, and $z$, and use them to store the numbers $5,6,7$.  \n",
    "\n",
    "Using these variables, calculate:  \n",
    "$5+6+7$,  \n",
    "and  \n",
    "$(5+6)\\times7$.\n",
    "</div>"
   ]
  },
  {
   "cell_type": "code",
   "execution_count": 14,
   "metadata": {
    "collapsed": true
   },
   "outputs": [],
   "source": [
    "# create your variables and store the numbers 5, 6, 7"
   ]
  },
  {
   "cell_type": "code",
   "execution_count": null,
   "metadata": {
    "collapsed": true
   },
   "outputs": [],
   "source": [
    "# use the variables to calculate 5+6+7"
   ]
  },
  {
   "cell_type": "code",
   "execution_count": null,
   "metadata": {
    "collapsed": true
   },
   "outputs": [],
   "source": [
    "# use the variables to calculate (5+6)×7"
   ]
  }
 ],
 "metadata": {
  "kernelspec": {
   "display_name": "Python 3",
   "language": "python",
   "name": "python3"
  },
  "language_info": {
   "codemirror_mode": {
    "name": "ipython",
    "version": 3
   },
   "file_extension": ".py",
   "mimetype": "text/x-python",
   "name": "python",
   "nbconvert_exporter": "python",
   "pygments_lexer": "ipython3",
   "version": "3.6.0"
  }
 },
 "nbformat": 4,
 "nbformat_minor": 2
}
