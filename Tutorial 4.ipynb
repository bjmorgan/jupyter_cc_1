{
 "cells": [
  {
   "cell_type": "markdown",
   "metadata": {
    "deletable": true,
    "editable": true
   },
   "source": [
    "# Data Analysis with Jupyter Notebooks.\n",
    "\n",
    "# Tutorial 4\n",
    "\n",
    "Benjamin J. Morgan, University of Bath."
   ]
  },
  {
   "cell_type": "markdown",
   "metadata": {
    "deletable": true,
    "editable": true
   },
   "source": [
    "# Contents\n",
    "\n",
    "- [Introduction to pandas](#pandas)\n",
    "- [Managing datasets with pandas](#pandas2)\n",
    "- [Reading and writing data files](#csv_io)"
   ]
  },
  {
   "cell_type": "markdown",
   "metadata": {
    "deletable": true,
    "editable": true
   },
   "source": [
    "# Introduction to `pandas`<a id='pandas'></a>\n",
    "\n",
    "In the previous tutorial you learned how to use `numpy` to combine arrays into tables."
   ]
  },
  {
   "cell_type": "markdown",
   "metadata": {
    "deletable": true,
    "editable": true
   },
   "source": [
    "<div class=\"alert alert-success\">\n",
    "Read the code in the cell below. You should be able to work out what the result will be.<br/><br/>Run the cell to check.\n",
    "</div>"
   ]
  },
  {
   "cell_type": "code",
   "execution_count": null,
   "metadata": {
    "collapsed": false,
    "deletable": true,
    "editable": true
   },
   "outputs": [],
   "source": [
    "import numpy as np\n",
    "x = np.arange(1,6)\n",
    "y1 = x**2\n",
    "y2 = x+3\n",
    "y3 = x/2 + 1\n",
    "column_table = np.column_stack( ( x, y1, y2, y3 ) )\n",
    "column_table"
   ]
  },
  {
   "cell_type": "markdown",
   "metadata": {
    "deletable": true,
    "editable": true
   },
   "source": [
    "It would be easier to remember what data these tables contain if we could label the different axes.  \n",
    "We can do this using another module `pandas` (the name is derived from \"panel data\"), which is designed for manipulating tables of data in much the same way as you might use a spreadsheet application.\n",
    "\n",
    ">```python\n",
    "import pandas as pd\n",
    "```"
   ]
  },
  {
   "cell_type": "code",
   "execution_count": null,
   "metadata": {
    "collapsed": true,
    "deletable": true,
    "editable": true
   },
   "outputs": [],
   "source": []
  },
  {
   "cell_type": "markdown",
   "metadata": {
    "deletable": true,
    "editable": true
   },
   "source": [
    "`pandas` stores tables of data as **Data Frames**\n",
    ">```python\n",
    "pd.DataFrame( column_table )\n",
    "```"
   ]
  },
  {
   "cell_type": "code",
   "execution_count": null,
   "metadata": {
    "collapsed": false,
    "deletable": true,
    "editable": true
   },
   "outputs": [],
   "source": []
  },
  {
   "cell_type": "markdown",
   "metadata": {
    "deletable": true,
    "editable": true
   },
   "source": [
    "This gives us labelled rows and columns, and nicer formatting when we output the data.  \n",
    "\n",
    "You can define your own column labels by including this information when you create the DataFrame\n",
    "\n",
    ">```python\n",
    "data = pd.DataFrame( column_table, columns = [ 'x', 'y1', 'y2', 'y3' ] )\n",
    "data\n",
    "```"
   ]
  },
  {
   "cell_type": "code",
   "execution_count": null,
   "metadata": {
    "collapsed": false,
    "deletable": true,
    "editable": true
   },
   "outputs": [],
   "source": []
  },
  {
   "cell_type": "markdown",
   "metadata": {
    "collapsed": false,
    "deletable": true,
    "editable": true
   },
   "source": [
    "This helps to describe *what* each column represents. You can also refer to a column label to access that data subset.\n",
    "\n",
    ">```python\n",
    "data['y1']\n",
    "```"
   ]
  },
  {
   "cell_type": "code",
   "execution_count": null,
   "metadata": {
    "collapsed": true,
    "deletable": true,
    "editable": true
   },
   "outputs": [],
   "source": []
  },
  {
   "cell_type": "markdown",
   "metadata": {
    "deletable": true,
    "editable": true
   },
   "source": [
    "This makes the code for plotting different data sets very clear.\n",
    "\n",
    ">```python\n",
    "plt.plot( data['x'], data['y1'] )\n",
    "plt.show()\n",
    "```"
   ]
  },
  {
   "cell_type": "code",
   "execution_count": null,
   "metadata": {
    "collapsed": false,
    "deletable": true,
    "editable": true
   },
   "outputs": [],
   "source": []
  },
  {
   "cell_type": "markdown",
   "metadata": {
    "deletable": true,
    "editable": true
   },
   "source": [
    "`pandas` DataFrames also have their own `plot()` function, that will plot all the data in the table with the appropriate column labels.\n",
    "\n",
    ">```python\n",
    "data.plot()\n",
    "```"
   ]
  },
  {
   "cell_type": "code",
   "execution_count": null,
   "metadata": {
    "collapsed": false,
    "deletable": true,
    "editable": true
   },
   "outputs": [],
   "source": []
  },
  {
   "cell_type": "markdown",
   "metadata": {
    "deletable": true,
    "editable": true
   },
   "source": [
    "This probably is not exactly what we wanted. The pandas DataFrame.plot() function will plot *all* of the columns, using the **index** as the $x$ values. In this case we want to plot $x$ against $y_1, y_2, y_3$. We can acheive this by rearranging the DataFrame.  \n",
    "\n",
    "First we set the index to be the same as the column **x**.\n",
    "\n",
    ">```python\n",
    "indexed_data = data.set_index( data['x'] )\n",
    "indexed_data\n",
    "```"
   ]
  },
  {
   "cell_type": "code",
   "execution_count": null,
   "metadata": {
    "collapsed": false,
    "deletable": true,
    "editable": true
   },
   "outputs": [],
   "source": []
  },
  {
   "cell_type": "markdown",
   "metadata": {
    "deletable": true,
    "editable": true
   },
   "source": [
    "and &ldquo;drop&rdquo; the original **x** column:\n",
    "\n",
    ">```python\n",
    "final_data = indexed_data.drop( 'x', 1 )\n",
    "final_data\n",
    "```\n",
    "\n",
    "The `1` here means we want to drop a column. Using `0` would try to drop a matching row.\n"
   ]
  },
  {
   "cell_type": "code",
   "execution_count": null,
   "metadata": {
    "collapsed": false,
    "deletable": true,
    "editable": true
   },
   "outputs": [],
   "source": []
  },
  {
   "cell_type": "markdown",
   "metadata": {
    "deletable": true,
    "editable": true
   },
   "source": [
    ">```python\n",
    "final_data.plot()\n",
    "```"
   ]
  },
  {
   "cell_type": "code",
   "execution_count": null,
   "metadata": {
    "collapsed": false,
    "deletable": true,
    "editable": true
   },
   "outputs": [],
   "source": []
  },
  {
   "cell_type": "markdown",
   "metadata": {
    "deletable": true,
    "editable": true
   },
   "source": [
    "It is also straight forward to add columns to a DataFrame.  \n",
    "For example, starting with the original `data` DataFrame:\n",
    "\n",
    ">```python\n",
    "data\n",
    "```"
   ]
  },
  {
   "cell_type": "code",
   "execution_count": null,
   "metadata": {
    "collapsed": false,
    "deletable": true,
    "editable": true
   },
   "outputs": [],
   "source": []
  },
  {
   "cell_type": "markdown",
   "metadata": {
    "deletable": true,
    "editable": true
   },
   "source": [
    ">```python\n",
    "data['z'] = 37.0\n",
    "data\n",
    "```"
   ]
  },
  {
   "cell_type": "code",
   "execution_count": null,
   "metadata": {
    "collapsed": false,
    "deletable": true,
    "editable": true
   },
   "outputs": [],
   "source": []
  },
  {
   "cell_type": "markdown",
   "metadata": {
    "deletable": true,
    "editable": true
   },
   "source": [
    "Because a column with label &ldquo;**z**&rdquo; does not already exist, the code creates a *new* column with &ldquo;**z**&rdquo; as the label, and sets every element to 37.0.\n",
    "\n",
    "We can also populate new (or existing) columns with the results from some arithmetic:\n",
    "\n",
    ">```python\n",
    "data['z'] = data['y1'] + data['y2']\n",
    "data['q'] = data['y3'] / 2.0\n",
    "data\n",
    "```"
   ]
  },
  {
   "cell_type": "code",
   "execution_count": null,
   "metadata": {
    "collapsed": false,
    "deletable": true,
    "editable": true
   },
   "outputs": [],
   "source": []
  },
  {
   "cell_type": "markdown",
   "metadata": {
    "deletable": true,
    "editable": true
   },
   "source": [
    "<div class=\"alert alert-success\">\n",
    "For this final DataFrame, set column **q** as the index, and use <span style='font-family:monospace'>DataFrame.plot()</span> to plot **x**, **y1**, **y2**, **y3**, and **z** against **q**.<br/>Make sure to use <span style='font-family:monospace'>DataFrame.drop()</span> to avoid plotting **q** against itself.\n",
    "</div>\n",
    "\n"
   ]
  },
  {
   "cell_type": "markdown",
   "metadata": {
    "deletable": true,
    "editable": true
   },
   "source": [
    "## Reading and Writing Data Files<a id='csv_io'></a>\n",
    "\n",
    "`pandas` comes with a number of functions for loading data from files on disk, and for saving data back to disk. There are different file-handling functions for different file formats. One aspect of running an experiment is thinking about how your data will be stored after it is collected. This includes *where* the data will be stored (e.g. the Bath University [Research Data Archive](http://researchdata.bath.ac.uk) and *what format* the data will be stored in. \n",
    "\n",
    "One choice for electronic data storage is **plain text**. Using plain text files for data storage has several advantages over software-specific file formats (such as Excel spreadsheets). They can be opened on any computer, and do not require particular software or a particular software version to be installed. Even for free, readily available software, there is no guarantee that this will be available years later, or will be maintained to be compatible with developments in computing hardware and operating systems. Software-specific files produced with old software, or just old versions of software, can be difficult, or impossible, to open.\n",
    "\n",
    "One common format for plain text data files is **csv**. csv stands for **c**omma **s**eparated **v**alues, and files look like\n",
    "\n",
    "```\n",
    "x,y\n",
    "0.3,2323.3\n",
    "1.5,1442.3\n",
    "3.7,914.6\n",
    "5.2,1233.0\n",
    "```\n",
    "\n",
    "Reading csv files from disk into a notebook can be done with the [`read_csv()`](http://pandas.pydata.org/pandas-docs/stable/generated/pandas.read_csv.html) function contained in `pandas`. \n",
    "\n",
    "The tutorial files include a `data` directory that contains example data file. To read in the data file corresponding to the example above we can use\n",
    "\n",
    ">```python\n",
    "pd.read_csv( 'data/example_1.csv' )\n",
    "```"
   ]
  },
  {
   "cell_type": "code",
   "execution_count": null,
   "metadata": {
    "collapsed": false,
    "deletable": true,
    "editable": true
   },
   "outputs": [],
   "source": []
  },
  {
   "cell_type": "markdown",
   "metadata": {
    "deletable": true,
    "editable": true
   },
   "source": [
    "Unless we specify otherwise, `read_csv()` assumes that the first row contains the data labels, and it uses these to label each column in the resulting DataFrame."
   ]
  },
  {
   "cell_type": "markdown",
   "metadata": {
    "deletable": true,
    "editable": true
   },
   "source": [
    "Although the **c** in csv stands for comma, `read_csv()` can handle files with other characters separating the columns. For `data/example_2.csv` contains the same data as `example_1.csv`, but with spaces between columns.\n",
    "\n",
    "```\n",
    "x   y\n",
    "0.3 2323.3\n",
    "1.5 1442.3\n",
    "3.7 914.6\n",
    "5.2 1233.0\n",
    "```\n",
    "\n",
    "To read this, we add an argument to `read_csv` specifying that the data columns are &ldquo;delimiter&rdquo; by **whitespace**.\n",
    "\n",
    ">```python\n",
    "pd.read_csv( 'data/example_2.csv', delim_whitespace=True )\n",
    "```"
   ]
  },
  {
   "cell_type": "code",
   "execution_count": null,
   "metadata": {
    "collapsed": false,
    "deletable": true,
    "editable": true
   },
   "outputs": [],
   "source": []
  },
  {
   "cell_type": "markdown",
   "metadata": {
    "deletable": true,
    "editable": true
   },
   "source": [
    "It is always good practice to include labels and a description of the experiment in the data file, to avoid any later confusion about what data are in which files. This is conventionally placed at the top of the file in the **header**. `example_3.csv` looks like\n",
    "\n",
    "```\n",
    "Example dataset for Jupyter data analysis practical\n",
    "\n",
    "x   y\n",
    "0.3 2323.3\n",
    "1.5 1442.3\n",
    "3.7 914.6\n",
    "5.2 1233.0\n",
    "```\n",
    "\n",
    "Now the structure assumed by `read_csv()` does not match the data file.\n",
    "\n",
    ">```python\n",
    "pd.read_csv( 'data/example_3.csv', delim_whitespace=True )\n",
    "```"
   ]
  },
  {
   "cell_type": "code",
   "execution_count": null,
   "metadata": {
    "collapsed": false,
    "deletable": true,
    "editable": true
   },
   "outputs": [],
   "source": []
  },
  {
   "cell_type": "markdown",
   "metadata": {
    "deletable": true,
    "editable": true
   },
   "source": [
    "Without any extra help, `read_csv()` has assumed that the top row lists data columns.\n",
    "\n",
    "To fix this we can specify which line contains the list of column names:\n",
    "\n",
    ">```python\n",
    "pd.read_csv( 'data/example_3.csv', delim_whitespace=True, header=1 )\n",
    "```"
   ]
  },
  {
   "cell_type": "code",
   "execution_count": null,
   "metadata": {
    "collapsed": false,
    "deletable": true,
    "editable": true
   },
   "outputs": [],
   "source": []
  },
  {
   "cell_type": "markdown",
   "metadata": {
    "deletable": true,
    "editable": true
   },
   "source": [
    "By default, `read_csv()` ignores empty lines, so in this example we set `header=1` (the first line would be `header=0`)."
   ]
  },
  {
   "cell_type": "markdown",
   "metadata": {
    "deletable": true,
    "editable": true
   },
   "source": [
    "Sometimes data files will contain lines marked as comments, in the same way as code can be commented. e.g. in `example_4.csv` comments are marked with `#`\n",
    "\n",
    "```\n",
    "# Example dataset for Jupyter data analysis practical\n",
    "\n",
    "x   y\n",
    "0.3 2323.3\n",
    "1.5 1442.3\n",
    "3.7 914.6\n",
    "5.2 1233.0\n",
    "# end of data\n",
    "```\n",
    "\n",
    "To read this we tell `read_csv()` to expect comments marked by a hash:\n",
    "\n",
    ">```python\n",
    "pd.read_csv( 'data/example_4.csv', delim_whitespace=True, comment='#' )\n",
    "```"
   ]
  },
  {
   "cell_type": "code",
   "execution_count": null,
   "metadata": {
    "collapsed": false,
    "deletable": true,
    "editable": true
   },
   "outputs": [],
   "source": []
  },
  {
   "cell_type": "markdown",
   "metadata": {
    "deletable": true,
    "editable": true
   },
   "source": [
    "Another possibility is for all non-data lines to be marked as comments, e.g. `example_5.csv`:\n",
    "\n",
    "```\n",
    "# Example dataset for Jupyter data analysis practical\n",
    "\n",
    "# x   y\n",
    "0.3 2323.3\n",
    "1.5 1442.3\n",
    "3.7 914.6\n",
    "5.2 1233.0\n",
    "# end of data\n",
    "```"
   ]
  },
  {
   "cell_type": "markdown",
   "metadata": {
    "deletable": true,
    "editable": true
   },
   "source": [
    "<div class=\"alert alert-success\">\n",
    "Try reading in <span style='font-family:monospace'>data/example_5.csv</span>, taking into account the whitespace to separate columns, and the comments.\n",
    "</div>"
   ]
  },
  {
   "cell_type": "code",
   "execution_count": null,
   "metadata": {
    "collapsed": false,
    "deletable": true,
    "editable": true
   },
   "outputs": [],
   "source": []
  },
  {
   "cell_type": "markdown",
   "metadata": {
    "deletable": true,
    "editable": true
   },
   "source": [
    "Because the `# x   y` line is now a *comment* we cannot use it to automatically label the columns. In fact the first data row is now used for column labels incorrectly.\n",
    "\n",
    "To get round this, we can tell `read_csv()` to not expect a header, and instead provide the column labels as a **list** of **strings**.\n",
    "\n",
    ">```python\n",
    "pd.read_csv( 'data/example_5.csv', \n",
    "              delim_whitespace=True, \n",
    "              comment='#', \n",
    "              header=None, \n",
    "              names=[ 'x', 'y' ] )\n",
    "```"
   ]
  },
  {
   "cell_type": "code",
   "execution_count": null,
   "metadata": {
    "collapsed": false,
    "deletable": true,
    "editable": true
   },
   "outputs": [],
   "source": []
  },
  {
   "cell_type": "markdown",
   "metadata": {
    "deletable": true,
    "editable": true
   },
   "source": [
    "<div class=\"alert alert-success\">\n",
    "<span style='font-family:monospace'>example_6.csv</span> contains the following text:<br/><br/> \n",
    "\n",
    "<span style='font-family:monospace'># Example dataset for Jupyter data analysis practical<br/><br/>\n",
    "\n",
    "# x    y       z<br/>\n",
    "  0.3  2323.3  24.12<br/>\n",
    "  1.5  1442.3  0.922<br/>\n",
    "  3.7  914.6   1.225<br/>\n",
    "  5.2  1233.0  93.12<br/>\n",
    "# end of data</span>\n",
    "<br/><br/>\n",
    "Using <span style='font-family:monospace'>read_csv()</span> read this dataset into a DataFrame and plot the data.\n",
    "</div>"
   ]
  },
  {
   "cell_type": "markdown",
   "metadata": {
    "deletable": true,
    "editable": true
   },
   "source": [
    "Saving the contents of a DataFrame to a new `.csv` file (or overwriting an old file) uses [`to_csv()`](http://pandas.pydata.org/pandas-docs/stable/generated/pandas.DataFrame.to_csv.html).\n",
    "\n",
    ">```python\n",
    "data = pd.read_csv( 'data/example_1.csv' )\n",
    "print( data )\n",
    "data['z'] = data['x'] * data['y']\n",
    "print( data )\n",
    "data.to_csv( 'data/updated_example_1.csv' )\n",
    "```"
   ]
  },
  {
   "cell_type": "code",
   "execution_count": null,
   "metadata": {
    "collapsed": false,
    "deletable": true,
    "editable": true
   },
   "outputs": [],
   "source": []
  },
  {
   "cell_type": "markdown",
   "metadata": {
    "deletable": true,
    "editable": true
   },
   "source": [
    "<div class=\"alert alert-success\">\n",
    "Check that <span style='font-family:monospace'>updated_example_1.csv</span> has been created in your <span style='font-family:monospace'>data</span> directory.<br/>\n",
    "Open this file from the Jupyter file browser to check the contents. Are they what you expected?<br/><br/>\n",
    "\n",
    "What happens if you rerun the previous code cell, using <span style='font-family:monospace'>data.to_csv( 'data/updated_example_1.csv', index=False )</span> ?\n",
    "</div>"
   ]
  }
 ],
 "metadata": {
  "kernelspec": {
   "display_name": "Python 3",
   "language": "python",
   "name": "python3"
  },
  "language_info": {
   "codemirror_mode": {
    "name": "ipython",
    "version": 3
   },
   "file_extension": ".py",
   "mimetype": "text/x-python",
   "name": "python",
   "nbconvert_exporter": "python",
   "pygments_lexer": "ipython3",
   "version": "3.6.0"
  }
 },
 "nbformat": 4,
 "nbformat_minor": 2
}
