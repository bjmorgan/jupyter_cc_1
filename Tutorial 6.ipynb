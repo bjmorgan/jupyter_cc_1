{
 "cells": [
  {
   "cell_type": "markdown",
   "metadata": {
    "deletable": true,
    "editable": true
   },
   "source": [
    "# Data Analysis with Jupyter Notebooks.\n",
    "\n",
    "# Tutorial 6\n",
    "\n",
    "Benjamin J. Morgan, University of Bath."
   ]
  },
  {
   "cell_type": "markdown",
   "metadata": {
    "deletable": true,
    "editable": true
   },
   "source": [
    "# Contents\n",
    "\n",
    "- [Putting it all together](#all_together)"
   ]
  },
  {
   "cell_type": "markdown",
   "metadata": {
    "deletable": true,
    "editable": true
   },
   "source": [
    "## Putting it all together – Fitting experimental data<a id='all_together'></a>\n",
    "\n",
    "In your Key Skills Excel practical you used linear regression to analyse equilibrium constant data for the equilibrium between NO<sub>2</sub> and N<sub>2</sub>O<sub>4</sub>, to find $\\Delta H_\\mathrm{r}$ and $\\Delta S_\\mathrm{r}$ for this reaction.  \n",
    "\n",
    "As an example of how the code skills you have learned can be combined to solve a chemical problem, using a Jupyter notebook, we can work through the same process here. In addition to revisiting various ideas from earlier in the tutorial, we will also see how to read and write data files.\n",
    "\n",
    "#### Theory\n",
    "\n",
    "The equilibrium reaction we have data for is\n",
    "\n",
    "\\begin{equation}\n",
    "2\\mathrm{NO}_2 \\mathrm{(g)}\\leftrightharpoons \\mathrm{N}_2\\mathrm{O}_4 \\mathrm{(g)}\n",
    "\\end{equation}\n",
    "\n",
    "Taking the equations relating $\\Delta G$ to $K$ and to $\\left\\{\\Delta H, \\Delta S\\right\\}$:\n",
    "\n",
    "\\begin{equation}\n",
    "\\Delta G = -RT \\ln K, \\tag{1}\n",
    "\\end{equation}\n",
    "\n",
    "\\begin{equation}\n",
    "\\Delta G = \\Delta H - T\\Delta S; \\tag{2}\n",
    "\\end{equation}\n",
    "\n",
    "we get\n",
    "\n",
    "\\begin{equation}\n",
    "\\ln K = \\frac{\\Delta H}{RT}-\\frac{\\Delta S}{R}. \\tag{3}\n",
    "\\end{equation}\n",
    "\n",
    "This is in the form\n",
    "\n",
    "\\begin{equation}\n",
    "y = mx + c\n",
    "\\end{equation}\n",
    "\n",
    "\\begin{equation}\n",
    "\\ln K = \\frac{\\Delta H}{R}\\frac{1}{T} - \\frac{\\Delta S}{R}. \\tag{4}\n",
    "\\end{equation}\n",
    "\n",
    "and plotting $\\ln(K)$ against $\\frac{1}{T}$ should give a straight line, with slope $\\frac{\\Delta H}{R}$ and intercept $-\\frac{\\Delta S}{R}$."
   ]
  },
  {
   "cell_type": "markdown",
   "metadata": {},
   "source": [
    "## Setting up the notebook\n",
    "\n",
    "Throughout this example we are going to be using `numpy`, `pandas` and `matplotlib`, so we `import` each module at the start of the notebook, and set `matplotlib` to show inline figures.\n",
    "\n",
    ">```python\n",
    "import numpy as np\n",
    "import pandas as pd\n",
    "import matplotlib.pyplot as plt\n",
    "%matplotlib inline\n",
    "```"
   ]
  },
  {
   "cell_type": "code",
   "execution_count": null,
   "metadata": {
    "collapsed": true
   },
   "outputs": [],
   "source": []
  },
  {
   "cell_type": "markdown",
   "metadata": {},
   "source": [
    "#### Analysis\n",
    "\n",
    "The data from this experiment are stored in a text file in `data/equilbirium_constant.dat`, which looks like\n",
    "\n",
    "```\n",
    "# equilibrium constant data for 2 NO2 => N2O4  \n",
    "# columns are: temperature (degrees Celsius), K\n",
    "  \n",
    "9   34.3\n",
    "20  12\n",
    "25  8.79\n",
    "33  4.4\n",
    "40  2.8\n",
    "52  1.4\n",
    "60  0.751\n",
    "70  0.4\n",
    "```\n",
    "\n",
    "To read this dataset into the notebook we use `read_csv()` with specfic arguements to handle the whitespace column separation, the comments, and the column labels. \n",
    "\n",
    ">```python\n",
    "data = pd.read_csv( 'data/equilibrium_constant.dat', \n",
    "                     delim_whitespace = True, \n",
    "                     comment='#', \n",
    "                     names = [ 'T (C)', 'K' ] )\n",
    "data                     \n",
    "```"
   ]
  },
  {
   "cell_type": "code",
   "execution_count": null,
   "metadata": {
    "collapsed": false,
    "deletable": true,
    "editable": true
   },
   "outputs": [],
   "source": []
  },
  {
   "cell_type": "markdown",
   "metadata": {
    "deletable": true,
    "editable": true
   },
   "source": [
    "Looking at `data` shows us 8 data points (numbered 0 to 7), where each has a temperature (in the **T (C)** column) and a measured equilibrium constant (in the **K** column).\n",
    "\n",
    "Before we can plot these data, we need to convert the temperature to Kelvin, and calculate $\\ln K$.\n",
    "\n",
    "Remember that we can access a column in a DataFrame by using its label:\n",
    "\n",
    ">```python\n",
    "data['T (C)']\n",
    "```"
   ]
  },
  {
   "cell_type": "code",
   "execution_count": null,
   "metadata": {
    "collapsed": false,
    "deletable": true,
    "editable": true
   },
   "outputs": [],
   "source": []
  },
  {
   "cell_type": "markdown",
   "metadata": {
    "deletable": true,
    "editable": true
   },
   "source": [
    "and can use this to create a *new* column to store the temperature in Kelvin.\n",
    "\n",
    ">```python\n",
    "data['T (K)'] = data['T (C)'] + 273.0\n",
    "data\n",
    "```"
   ]
  },
  {
   "cell_type": "code",
   "execution_count": null,
   "metadata": {
    "collapsed": false,
    "deletable": true,
    "editable": true
   },
   "outputs": [],
   "source": []
  },
  {
   "cell_type": "markdown",
   "metadata": {
    "deletable": true,
    "editable": true
   },
   "source": [
    "This has created a new column, with the label **T (K)**.\n",
    "\n",
    "Next, we do the same to calculate a set of $\\ln K$ values:\n",
    "\n",
    ">```python\n",
    "data['ln K'] = np.log( data['K'] )\n",
    "data\n",
    "```"
   ]
  },
  {
   "cell_type": "code",
   "execution_count": null,
   "metadata": {
    "collapsed": false,
    "deletable": true,
    "editable": true
   },
   "outputs": [],
   "source": []
  },
  {
   "cell_type": "markdown",
   "metadata": {
    "deletable": true,
    "editable": true
   },
   "source": [
    "We are now ready to plot $\\ln K$ versus $1/T$.\n",
    "\n",
    ">```python\n",
    "x = 1.0 / data['T (K)']\n",
    "y = data['ln K']\n",
    "plt.plot( x, y, 'o' )\n",
    "plt.xlabel( '1/T' )\n",
    "plt.ylabel( 'ln K' )\n",
    "plt.show()\n",
    "```\n",
    "\n",
    "Notice that this code calculates all the inverse temperatures in place. An alternative way to do this would be to generate a new column in `data` with all the $1/T$ values, and then plot this directly."
   ]
  },
  {
   "cell_type": "code",
   "execution_count": null,
   "metadata": {
    "collapsed": false,
    "deletable": true,
    "editable": true
   },
   "outputs": [],
   "source": []
  },
  {
   "cell_type": "markdown",
   "metadata": {
    "deletable": true,
    "editable": true
   },
   "source": [
    "Using `linregress()` from `scipy.stats` we can find the slope and intercept for the line of best-fit.\n",
    "\n",
    ">```python\n",
    "from scipy.stats import linregress\n",
    "slope, intercept, rvalue, pvalue, stderr = linregress( x, y )\n",
    "print( \"slope =\", slope )\n",
    "print( \"intercept =\", intercept )\n",
    "```"
   ]
  },
  {
   "cell_type": "code",
   "execution_count": null,
   "metadata": {
    "collapsed": true,
    "deletable": true,
    "editable": true
   },
   "outputs": [],
   "source": []
  },
  {
   "cell_type": "markdown",
   "metadata": {},
   "source": [
    "Now that we know our data analysis involves importing `linregress` from `scipy.stats` we would usually move this line to the topmost code cell with the other `import` statements. This lets someone see what libraries are needed just by looking at the top of a notebook."
   ]
  },
  {
   "cell_type": "markdown",
   "metadata": {},
   "source": [
    "<div class=\"alert alert-success\">\n",
    "Delete the import statement from the previous code cell, and add it into the topmost code cell with the other import statements. Then re-run the entire notebook up to here by selecting Cell > Run All from the Menu.\n",
    "</div>"
   ]
  },
  {
   "cell_type": "markdown",
   "metadata": {
    "deletable": true,
    "editable": true
   },
   "source": [
    "To plot the best-fit line against the original data, we generate a new data set according to $y=mx+c$, with $m$ and $c$ as the slope and intercept from `linregress`.\n",
    "\n",
    ">```python\n",
    "y_fit = slope * x + intercept # remember, x is an array storing 1.0 / data['T (K)']\n",
    "plt.plot( x, y, 'o' )\n",
    "plt.plot( x, y_fit, '-' )\n",
    "plt.xlabel( '1/T' )\n",
    "plt.ylabel( 'ln K' )\n",
    "plt.show()\n",
    "```\n"
   ]
  },
  {
   "cell_type": "code",
   "execution_count": null,
   "metadata": {
    "collapsed": false,
    "deletable": true,
    "editable": true
   },
   "outputs": [],
   "source": []
  },
  {
   "cell_type": "markdown",
   "metadata": {
    "deletable": true,
    "editable": true
   },
   "source": [
    "Because we have calculated the slope and intercept, we can now calculate $\\Delta H$ and $\\Delta S$ for the reaction.\n",
    "\n",
    "\\begin{equation}\n",
    "\\Delta H = R \\times \\mathrm{slope}\n",
    "\\end{equation}\n",
    "\n",
    "\\begin{equation}\n",
    "\\Delta S = R \\times \\mathrm{intercept}\n",
    "\\end{equation}\n",
    "\n",
    "To save us having to look up and type in the gas constant, $R$, we can use [`scipy.constants`](https://docs.scipy.org/doc/scipy-0.18.1/reference/constants.html#).\n",
    "\n",
    ">```python\n",
    "from scipy.constants import R # gas constant in J K^-1 mol^-1\n",
    "print( R ) \n",
    "```"
   ]
  },
  {
   "cell_type": "code",
   "execution_count": null,
   "metadata": {
    "collapsed": false,
    "deletable": true,
    "editable": true
   },
   "outputs": [],
   "source": []
  },
  {
   "cell_type": "markdown",
   "metadata": {
    "deletable": true,
    "editable": true
   },
   "source": [
    ">```python\n",
    "delta_H = R * slope\n",
    "delta_S = R * intercept\n",
    "print( 'Delta H =', delta_H / 1000, 'kJ mol^-1' )\n",
    "print( 'Delta S = ', delta_S, 'J K^-1 mol^-1' )\n",
    "```"
   ]
  },
  {
   "cell_type": "code",
   "execution_count": null,
   "metadata": {
    "collapsed": false,
    "deletable": true,
    "editable": true
   },
   "outputs": [],
   "source": []
  },
  {
   "cell_type": "markdown",
   "metadata": {
    "deletable": true,
    "editable": true
   },
   "source": [
    "To finish, although we have not done any particularly complicated analysis on the original data, we save our new data set.\n",
    "\n",
    "Our modified data set is stored as a `pandas` DataFrame in `data`\n",
    "\n",
    ">```python\n",
    "data\n",
    "```"
   ]
  },
  {
   "cell_type": "code",
   "execution_count": null,
   "metadata": {
    "collapsed": false,
    "deletable": true,
    "editable": true
   },
   "outputs": [],
   "source": []
  },
  {
   "cell_type": "markdown",
   "metadata": {
    "deletable": true,
    "editable": true
   },
   "source": [
    "To save this out to another file we can use [`DataFrame.to_csv()`](http://pandas.pydata.org/pandas-docs/stable/generated/pandas.DataFrame.to_csv.html).\n",
    "\n",
    ">```python\n",
    "filename = 'data/modified_equilibrium_data.dat'\n",
    "data.to_csv( filename, sep=' ', index=False)\n",
    "```\n",
    "\n",
    "`sep=' '` tells `to_csv()` to use spaces instead of commas to separate the columns."
   ]
  },
  {
   "cell_type": "code",
   "execution_count": null,
   "metadata": {
    "collapsed": false,
    "deletable": true,
    "editable": true
   },
   "outputs": [],
   "source": []
  },
  {
   "cell_type": "markdown",
   "metadata": {
    "deletable": true,
    "editable": true
   },
   "source": [
    "which saves the complete modified data set in plain text to `modified_equilibrium_data.dat` in the `data` directory:\n",
    "\n",
    "```\n",
    "\"T (C)\" K \"T (K)\" \"ln K\"\n",
    "9 34.3 282.0 3.535145354171894\n",
    "20 12.0 293.0 2.4849066497880004\n",
    "25 8.79 298.0 2.1736147116970854\n",
    "33 4.4 306.0 1.4816045409242156\n",
    "40 2.8 313.0 1.0296194171811581\n",
    "52 1.4 325.0 0.3364722366212129\n",
    "60 0.7509999999999999 333.0 -0.28634962721800244\n",
    "70 0.4 343.0 -0.916290731874155\n",
    "```\n",
    "\n",
    "Or for a cleaner saved file, we can use `np.round()` to round off the data to our required number of decimal places, before using `to_csv()`:\n",
    "\n",
    ">```python\n",
    "np.round(data, 3).to_csv( filename, sep=' ', index=False)\n",
    "```"
   ]
  },
  {
   "cell_type": "code",
   "execution_count": null,
   "metadata": {
    "collapsed": true,
    "deletable": true,
    "editable": true
   },
   "outputs": [],
   "source": []
  }
 ],
 "metadata": {
  "kernelspec": {
   "display_name": "Python 3",
   "language": "python",
   "name": "python3"
  },
  "language_info": {
   "codemirror_mode": {
    "name": "ipython",
    "version": 3
   },
   "file_extension": ".py",
   "mimetype": "text/x-python",
   "name": "python",
   "nbconvert_exporter": "python",
   "pygments_lexer": "ipython3",
   "version": "3.6.0"
  }
 },
 "nbformat": 4,
 "nbformat_minor": 2
}
