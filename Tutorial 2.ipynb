{
 "cells": [
  {
   "cell_type": "markdown",
   "metadata": {},
   "source": [
    "# Contents\n",
    "\n",
    "- [Plotting data with matplotlib](#matplotlib)\n",
    "- [Creating Tables with 2D numpy arrays](#2d_arrays)\n",
    "- [Introduction to pandas](#pandas)\n",
    "- [Managing datasets with pandas](#pandas2)\n",
    "- [Introductory data analysis with numpy](#data_analysis)"
   ]
  },
  {
   "cell_type": "markdown",
   "metadata": {},
   "source": [
    "# Plotting data with matplotlib<a id='matplotlib'</a>\n",
    "\n",
    "To plot data we use another module: [`matplotlib`](http://matplotlib.org) This is a very powerful (and complicated) plotting library, that be used for quick analysis of experimental data, or to generate publication quality figures. It supports an enormous number of plot types. We are going to start with simple 2D $x,y$ plots.\n",
    "\n",
    ">```python\n",
    "import matplotlib.pyplot as plt\n",
    "%matplotlib inline\n",
    "```"
   ]
  },
  {
   "cell_type": "code",
   "execution_count": null,
   "metadata": {
    "collapsed": true
   },
   "outputs": [],
   "source": []
  },
  {
   "cell_type": "markdown",
   "metadata": {},
   "source": [
    "The `import` statement loads up the part of the `matplotlib` library we will use for plotting, and lets us refer to this as `plt` for convenience later.\n",
    "\n",
    "The `%matplotlib inline` command tells the Jupyter notebook that we want all out &ldquo;plots&rdquo; to appear &ldquo;inline&rdquo;, i.e. inside the notebook (alternatives include opening the plots in other windows, or saving them as graphics files). The `%` symbol at the start means this is a &ldquo;magic&rdquo; command for controlling the behaviour of this Jupyter notebook, and is not standard Python.\n",
    "\n",
    "If you are using a high DPI or &ldquo;retina&rdquo; screen, you will also want to switch on high resolution figures.\n",
    "\n",
    ">```python\n",
    "%config InlineBackend.figure_format = 'retina'\n",
    "```\n",
    "\n",
    "Creating a plot uses `plt.plot()`. Remember, we have assigned `plt` as shorthand for `matplotlib.pyplot`.\n",
    "\n",
    ">```python\n",
    "print(\"a:\",a)\n",
    "print(\"b:\",b)\n",
    "plt.plot( a, b )\n",
    "plt.show()\n",
    "```"
   ]
  },
  {
   "cell_type": "code",
   "execution_count": null,
   "metadata": {
    "collapsed": false
   },
   "outputs": [],
   "source": []
  },
  {
   "cell_type": "markdown",
   "metadata": {},
   "source": [
    "This can be used for plotting $y$ as a function of $x$, e.g. $y=x^2$.\n",
    "\n",
    ">```python\n",
    "x = np.array( [0, 1, 2, 3, 4, 5] )\n",
    "y = x**2\n",
    "plt.plot( x, y )\n",
    "plt.show()\n",
    "```"
   ]
  },
  {
   "cell_type": "code",
   "execution_count": null,
   "metadata": {
    "collapsed": false
   },
   "outputs": [],
   "source": []
  },
  {
   "cell_type": "markdown",
   "metadata": {},
   "source": [
    "The default plot shows a connected line. To plot individual points, we can add a third argument to `plt.plot()` that specifies the appearance for that data set:\n",
    "\n",
    ">```python\n",
    "plt.plot( x, y, \"o\" )\n",
    "plt.show()\n",
    "```"
   ]
  },
  {
   "cell_type": "code",
   "execution_count": null,
   "metadata": {
    "collapsed": false
   },
   "outputs": [],
   "source": []
  },
  {
   "cell_type": "markdown",
   "metadata": {},
   "source": [
    "A large number of marker types exist in `matplotlib` (a full list is [here](#http://matplotlib.org/api/markers_api.html#module-matplotlib.markers))."
   ]
  },
  {
   "cell_type": "markdown",
   "metadata": {},
   "source": [
    "We can also control the line style, and combine code controlling marker and line appearance.\n",
    "\n",
    ">```python\n",
    "plt.plot( x, y, \":\" ) # dotted line\n",
    "plt.show()\n",
    "```"
   ]
  },
  {
   "cell_type": "code",
   "execution_count": null,
   "metadata": {
    "collapsed": false
   },
   "outputs": [],
   "source": []
  },
  {
   "cell_type": "markdown",
   "metadata": {},
   "source": [
    ">```python\n",
    "plt.plot( x, y, \"s:\" ) # dotted line with squares\n",
    "plt.show()\n",
    "```"
   ]
  },
  {
   "cell_type": "code",
   "execution_count": null,
   "metadata": {
    "collapsed": false
   },
   "outputs": [],
   "source": []
  },
  {
   "cell_type": "markdown",
   "metadata": {},
   "source": [
    "Adding axes labels and a title uses the `xlabel()`, `ylabel()`, and `title` commands.\n",
    "\n",
    ">```python\n",
    "plt.plot( x, y, 'o-' )\n",
    "plt.xlabel( 'x' )\n",
    "plt.ylabel( 'y^2' )\n",
    "plt.title( 'y = x^2' )\n",
    "plt.show()\n",
    "```"
   ]
  },
  {
   "cell_type": "code",
   "execution_count": null,
   "metadata": {
    "collapsed": false
   },
   "outputs": [],
   "source": []
  },
  {
   "cell_type": "markdown",
   "metadata": {},
   "source": [
    "Plotting multiple data sets on the same graph uses multiple `plot()` commands. For an example, let us create three `numpy` arrays, `u`, `v`, and `w`.\n",
    "\n",
    ">```python\n",
    "# create three numpy arrays, u, v, and w\n",
    "u = x + 1\n",
    "v = x ** 2\n",
    "w = np.sqrt( (x*2)+1 )\n",
    "print('u = ',u)\n",
    "print('v = ',v)\n",
    "print('w = ',w)\n",
    "```"
   ]
  },
  {
   "cell_type": "code",
   "execution_count": null,
   "metadata": {
    "collapsed": false
   },
   "outputs": [],
   "source": []
  },
  {
   "cell_type": "markdown",
   "metadata": {},
   "source": [
    "Now we can plot $u$, $v$, and $w$ versus $x$ on the same figure.\n",
    "\n",
    ">```python\n",
    "plt.plot( x, u, 'o-',  label='x+1' )\n",
    "plt.plot( x, v, 'x--', label='x**2' )\n",
    "plt.plot( x, w, '*:',  label='sqrt((x*2)+1)' )\n",
    "plt.xlabel( 'x' )\n",
    "plt.ylabel( 'y' )\n",
    "plt.title( 'y=f(x)')\n",
    "plt.legend()\n",
    "plt.show()\n",
    "```"
   ]
  },
  {
   "cell_type": "code",
   "execution_count": null,
   "metadata": {
    "collapsed": false
   },
   "outputs": [],
   "source": []
  },
  {
   "cell_type": "markdown",
   "metadata": {},
   "source": [
    "We have assigned text labels for each data set by setting `label=string` in each `plt.plot()` command. These labels are then shown in the legend produced by the `plt.legend()` command."
   ]
  },
  {
   "cell_type": "markdown",
   "metadata": {},
   "source": [
    "Nearly every part of the plot appearance can be controlled. Two further examples are line colours and thickness. A number of line colours are predefined and can be referred to with a [corresponding string](http://matplotlib.org/examples/color/named_colors.html)."
   ]
  },
  {
   "cell_type": "code",
   "execution_count": null,
   "metadata": {
    "collapsed": false
   },
   "outputs": [],
   "source": [
    "# run this cell\n",
    "plt.plot( x, u, 'o-',  label='x+1',           color='salmon',    linewidth=3 )\n",
    "plt.plot( x, v, 'x--', label='x**2',          color='darkolivegreen',  linewidth=2 )\n",
    "plt.plot( x, w, '*:',  label='sqrt((x*2)+1)', color='slategrey', linewidth=4 )\n",
    "plt.xlabel( 'x' )\n",
    "plt.ylabel( 'y' )\n",
    "plt.title( 'y=f(x)')\n",
    "plt.legend()\n",
    "plt.show()"
   ]
  },
  {
   "cell_type": "markdown",
   "metadata": {},
   "source": [
    "You can save a figure to an external file using `plt.savefig('filename')` instead of `plt.show()`."
   ]
  },
  {
   "cell_type": "markdown",
   "metadata": {},
   "source": [
    "<div class=\"alert alert-success\">\n",
    "Edit the cell above to replace <br/><br/><span style='font-family:monospace; margin-left: 40px'>plt.show()</span><br/><br/> with <br/><br/><span style='font-family:monospace; margin-left: 40px'>plt.savefig('my_figure.pdf')</span><br/><br/>Then run the cell to save the figure to the disk.\n",
    "</div>"
   ]
  },
  {
   "cell_type": "markdown",
   "metadata": {},
   "source": [
    "## Creating tables using 2D numpy arrays<a id='2d_arrays'></a>\n",
    "\n",
    "It can often be useful to collect different data sets together in a table.  \n",
    "One way to do this is by combining `numpy` arrays into larger, two-dimensional, arrays.\n",
    "\n",
    ">```python\n",
    "# create an array `x` with the integers 1 to 5\n",
    "x = np.arange(1,6)\n",
    "# create three new arrays by performing calculations on `x`\n",
    "y1 = x**2\n",
    "y2 = x+3\n",
    "y3 = x/2 + 1\n",
    "print('x=',x)\n",
    "print('y1=',y1)\n",
    "print('y2=',y2)\n",
    "print('y3=',y3)\n",
    "```"
   ]
  },
  {
   "cell_type": "code",
   "execution_count": null,
   "metadata": {
    "collapsed": false
   },
   "outputs": [],
   "source": []
  },
  {
   "cell_type": "markdown",
   "metadata": {},
   "source": [
    "We can combine numpy arrays into a table as **columns** using `np.column_stack()`\n",
    "\n",
    ">```python\n",
    "# combine x, y1, y2, and y3 as columns in a new table\n",
    "column_table = np.column_stack( ( x, y1, y2, y3 ) )\n",
    "print( column_table )\n",
    "```"
   ]
  },
  {
   "cell_type": "code",
   "execution_count": null,
   "metadata": {
    "collapsed": false
   },
   "outputs": [],
   "source": []
  },
  {
   "cell_type": "markdown",
   "metadata": {},
   "source": [
    "Or as **rows** using np.row_stack()\n",
    "\n",
    ">```python\n",
    "# arrange x, y1, y2, and y3 as rows in a new table\n",
    "row_table = np.row_stack( ( x, y1, y2, y3 ) )\n",
    "print( row_table )\n",
    "```"
   ]
  },
  {
   "cell_type": "code",
   "execution_count": null,
   "metadata": {
    "collapsed": false
   },
   "outputs": [],
   "source": []
  },
  {
   "cell_type": "markdown",
   "metadata": {},
   "source": [
    "A 1D `numpy` array can be indexed like a list.\n",
    ">```python\n",
    "my_1D_array = np.array( [ 1, 2, 3, 4, 5, 6] )\n",
    "my_1D_array[2:5] \n",
    "# [2:5] selects from 2 jumps, up to, but not including, 5 jumps\n",
    "```"
   ]
  },
  {
   "cell_type": "code",
   "execution_count": null,
   "metadata": {
    "collapsed": false
   },
   "outputs": [],
   "source": []
  },
  {
   "cell_type": "markdown",
   "metadata": {},
   "source": [
    "A 2D `numpy` array can be treated like a [list of lists](lists), and indexing returns selected rows.\n",
    ">```python\n",
    "row_table[1] # return the 2nd row (1 jump from the start)\n",
    "```"
   ]
  },
  {
   "cell_type": "code",
   "execution_count": null,
   "metadata": {
    "collapsed": false
   },
   "outputs": [],
   "source": []
  },
  {
   "cell_type": "markdown",
   "metadata": {},
   "source": [
    "Because each row is a 1D `numpy` array, we can use a second index to select a single entry.\n",
    ">```python\n",
    "row_table[1][3]\n",
    "```"
   ]
  },
  {
   "cell_type": "code",
   "execution_count": null,
   "metadata": {
    "collapsed": false
   },
   "outputs": [],
   "source": []
  },
  {
   "cell_type": "markdown",
   "metadata": {},
   "source": [
    "These two indices can be combined into a single bracket\n",
    ">```python\n",
    "row_table[1,3]\n",
    "```"
   ]
  },
  {
   "cell_type": "code",
   "execution_count": null,
   "metadata": {
    "collapsed": false
   },
   "outputs": [],
   "source": []
  },
  {
   "cell_type": "markdown",
   "metadata": {},
   "source": [
    "To select a single row, we make use of the range character `:`. Remember, for a list or 1D array, `:` lets us select a range of elements, and leaving out one of the numbers selects all elements up to the start, or end, of the list.\n",
    "\n",
    ">```python\n",
    "my_list = [ 'a', 'b', 'c', 'd', 'e' ]\n",
    "my_list[1:]\n",
    "```"
   ]
  },
  {
   "cell_type": "code",
   "execution_count": null,
   "metadata": {
    "collapsed": false
   },
   "outputs": [],
   "source": []
  },
  {
   "cell_type": "markdown",
   "metadata": {},
   "source": [
    "Leaving out *both* numbers extends our selection up to both ends of the list or array.\n",
    ">```python\n",
    "my_list[:]\n",
    "```"
   ]
  },
  {
   "cell_type": "code",
   "execution_count": null,
   "metadata": {
    "collapsed": false
   },
   "outputs": [],
   "source": []
  },
  {
   "cell_type": "markdown",
   "metadata": {},
   "source": [
    "For a 2D array, you can think of this as &ldquo;every row&rdquo; or &ldquo;every column&rdquo;.\n",
    "\n",
    ">```python\n",
    "print( row_table )\n",
    "print()\n",
    "print( row_table[:,3] ) # all rows, jump 3 columns\n",
    "```"
   ]
  },
  {
   "cell_type": "code",
   "execution_count": null,
   "metadata": {
    "collapsed": false
   },
   "outputs": [],
   "source": []
  },
  {
   "cell_type": "markdown",
   "metadata": {},
   "source": [
    "<div class=\"alert alert-success\">\n",
    "Use a combination of row and column indexing to select <span style='font-family:monospace'>[ 6., 7., 8.]</span> from <span style='font-family:monospace'>row_table</span>\n",
    "</div>"
   ]
  },
  {
   "cell_type": "code",
   "execution_count": null,
   "metadata": {
    "collapsed": false
   },
   "outputs": [],
   "source": []
  },
  {
   "cell_type": "markdown",
   "metadata": {},
   "source": [
    "# Introduction to `pandas`<a id='pandas'></a>\n",
    "It would be easier to remember what data these tables contain if we could label the different axes.  \n",
    "We can do this using another module `pandas` (the name is derived from \"panel data\"), which is designed for manipulating tables of data in much the same way as you might use a spreadsheet application.\n",
    "\n",
    ">```python\n",
    "import pandas as pd\n",
    "```"
   ]
  },
  {
   "cell_type": "code",
   "execution_count": null,
   "metadata": {
    "collapsed": true
   },
   "outputs": [],
   "source": []
  },
  {
   "cell_type": "markdown",
   "metadata": {},
   "source": [
    "`pandas` stores tables of data as **Data Frames**\n",
    ">```python\n",
    "pd.DataFrame( column_table )\n",
    "```"
   ]
  },
  {
   "cell_type": "code",
   "execution_count": null,
   "metadata": {
    "collapsed": false
   },
   "outputs": [],
   "source": []
  },
  {
   "cell_type": "markdown",
   "metadata": {},
   "source": [
    "This gives us labelled rows and columns, and nicer formatting when we output the data.  \n",
    "\n",
    "You can define your own column labels by including this information when you create the DataFrame\n",
    "\n",
    ">```python\n",
    "data = pd.DataFrame( column_table, columns = [ 'x', 'y1', 'y2', 'y3' ] )\n",
    "data\n",
    "```"
   ]
  },
  {
   "cell_type": "code",
   "execution_count": null,
   "metadata": {
    "collapsed": true
   },
   "outputs": [],
   "source": []
  },
  {
   "cell_type": "markdown",
   "metadata": {
    "collapsed": false
   },
   "source": [
    "This helps to describe *what* each column represents. You can also refer to a column label to access that data subset.\n",
    "\n",
    ">```python\n",
    "data['y1']\n",
    "```"
   ]
  },
  {
   "cell_type": "markdown",
   "metadata": {
    "collapsed": false
   },
   "source": []
  },
  {
   "cell_type": "markdown",
   "metadata": {},
   "source": [
    ">```python\n",
    "plt.plot( data['x'], data['y1'] )\n",
    "plt.show()\n",
    "```"
   ]
  },
  {
   "cell_type": "code",
   "execution_count": null,
   "metadata": {
    "collapsed": false
   },
   "outputs": [],
   "source": []
  },
  {
   "cell_type": "markdown",
   "metadata": {},
   "source": [
    "`pandas` DataFrames also have their own `plot()` function, that will plot all the data in the table with the appropriate column labels.\n",
    "\n",
    ">```python\n",
    "data.plot()\n",
    "```"
   ]
  },
  {
   "cell_type": "code",
   "execution_count": null,
   "metadata": {
    "collapsed": false
   },
   "outputs": [],
   "source": []
  },
  {
   "cell_type": "markdown",
   "metadata": {},
   "source": [
    "This probably is not exactly what we wanted. The pandas DataFrame.plot() function will plot *all* of the columns, using the **index** as the $x$ values. In this case we want to plot $x$ against $y_1, y_2, y_3$. We can acheive this by rearranging the DataFrame.  \n",
    "\n",
    "First we set the index to be the same as the column **x**.\n",
    "\n",
    ">```python\n",
    "indexed_data = data.set_index( data['x'] )\n",
    "indexed_data\n",
    "```"
   ]
  },
  {
   "cell_type": "code",
   "execution_count": null,
   "metadata": {
    "collapsed": false
   },
   "outputs": [],
   "source": []
  },
  {
   "cell_type": "markdown",
   "metadata": {},
   "source": [
    "and &ldquo;drop&rdquo; the original **x** column:\n",
    "\n",
    ">```python\n",
    "final_data = indexed_data.drop( 'x', 1 )\n",
    "final_data\n",
    "```\n",
    "\n",
    "The `1` here means we want to drop a column. Using `0` would try to drop a matching row.\n"
   ]
  },
  {
   "cell_type": "code",
   "execution_count": null,
   "metadata": {
    "collapsed": false
   },
   "outputs": [],
   "source": []
  },
  {
   "cell_type": "markdown",
   "metadata": {},
   "source": [
    ">```python\n",
    "final_data.plot()\n",
    "```"
   ]
  },
  {
   "cell_type": "code",
   "execution_count": null,
   "metadata": {
    "collapsed": false
   },
   "outputs": [],
   "source": []
  },
  {
   "cell_type": "markdown",
   "metadata": {},
   "source": [
    "# Data analysis and statistics with numpy<a id='data_analysis'></a>\n",
    "\n",
    "`numpy` contains a lot of powerful functions for performing simple statistical analysis on our data. For example, consider the set of numbers 1 to 50:\n",
    "\n",
    ">```python\n",
    "a = np.arange(1,51)\n",
    "a\n",
    "```"
   ]
  },
  {
   "cell_type": "code",
   "execution_count": null,
   "metadata": {
    "collapsed": false
   },
   "outputs": [],
   "source": []
  },
  {
   "cell_type": "markdown",
   "metadata": {},
   "source": [
    "To find the minimum and maximum values we can use `np.min()` and `np.max()`\n",
    "\n",
    ">```python\n",
    "np.min(a)\n",
    "```"
   ]
  },
  {
   "cell_type": "code",
   "execution_count": null,
   "metadata": {
    "collapsed": false
   },
   "outputs": [],
   "source": []
  },
  {
   "cell_type": "markdown",
   "metadata": {},
   "source": [
    ">```python\n",
    "np.max(a)\n",
    "```"
   ]
  },
  {
   "cell_type": "code",
   "execution_count": null,
   "metadata": {
    "collapsed": false
   },
   "outputs": [],
   "source": []
  },
  {
   "cell_type": "markdown",
   "metadata": {},
   "source": [
    "To find the **sum** of all these numbers, we can use `np.sum()`\n",
    "\n",
    ">```python\n",
    "np.sum(a)\n",
    "```"
   ]
  },
  {
   "cell_type": "code",
   "execution_count": null,
   "metadata": {
    "collapsed": false
   },
   "outputs": [],
   "source": []
  },
  {
   "cell_type": "markdown",
   "metadata": {},
   "source": [
    "The **mean** of a set of numbers is defined as \n",
    "\n",
    "\\begin{equation}\n",
    "\\frac{\\sum_i^N x_i}{N}\n",
    "\\end{equation}\n",
    "\n",
    "which we could calculate with\n",
    "\n",
    ">```python\n",
    "np.sum(a) / len(a)\n",
    "# len(a) returns the length of the array `a`\n",
    "```"
   ]
  },
  {
   "cell_type": "code",
   "execution_count": null,
   "metadata": {
    "collapsed": false
   },
   "outputs": [],
   "source": []
  },
  {
   "cell_type": "markdown",
   "metadata": {},
   "source": [
    "or with `np.mean()`\n",
    "\n",
    ">```python\n",
    "np.mean( a )\n",
    "```"
   ]
  },
  {
   "cell_type": "code",
   "execution_count": null,
   "metadata": {
    "collapsed": false
   },
   "outputs": [],
   "source": []
  },
  {
   "cell_type": "markdown",
   "metadata": {},
   "source": [
    "The **standard deviation**, $\\sigma$ quantifies how much the numbers in our set deviate from the mean.\n",
    "\n",
    "\\begin{equation}\n",
    "\\sigma = \\sqrt{\\frac{1}{N}\\sum_{i=1}^N(x_i-\\mu)^2}\n",
    "\\end{equation}\n",
    "\n",
    "where $\\mu$ is the mean.\n",
    "\n",
    "Again, we could write this out in code:\n",
    "\n",
    ">```python\n",
    "import math\n",
    "sigma = math.sqrt( np.sum( ( a - np.mean(a))**2 ) / len(a) )\n",
    "sigma\n",
    "```"
   ]
  },
  {
   "cell_type": "code",
   "execution_count": null,
   "metadata": {
    "collapsed": false
   },
   "outputs": [],
   "source": []
  },
  {
   "cell_type": "markdown",
   "metadata": {},
   "source": [
    "Or use the `np.std()` function\n",
    "\n",
    ">```python\n",
    "np.std(a)\n",
    "```"
   ]
  },
  {
   "cell_type": "code",
   "execution_count": null,
   "metadata": {
    "collapsed": false
   },
   "outputs": [],
   "source": []
  },
  {
   "cell_type": "markdown",
   "metadata": {},
   "source": [
    "### Linear Regression\n",
    "\n",
    "Another commonly used data analysis technique is **linear regression**. This is used to calculate the relationship between two data sets, $X$ and $Y$, assuming that this relationship can be described by a straight line\n",
    "\n",
    "\\begin{equation}\n",
    "y_i = m x_i + c.\n",
    "\\end{equation}\n",
    "\n",
    "For any real data set, the data points are unlikely to all fall exactly on the same line. Linear regression is the process of calculating the line that &ldquo;best fits&rdquo; the given data.\n",
    "\n",
    "In your Key Skills Excel practical you used linear regression to analyse equilibrium constant data for the equilibrium between NO$_2$ and N$_2$O$_4$, to find $\\Delta H_\\mathrm{r}$ and $\\Delta S_\\mathrm{r}$ for this reaction.  \n",
    "\n",
    "As an example of using linear regression in a Jupyter notebook, and applying this to a chemical problem, let us work through the same process in code.\n",
    "\n",
    "#### Theory\n",
    "\n",
    "The equilibrium reaction we have data for is\n",
    "\n",
    "\\begin{equation}\n",
    "2\\mathrm{NO}_2 \\mathrm{(g)}\\leftrightharpoons \\mathrm{N}_2\\mathrm{O}_4 \\mathrm{(g)}\n",
    "\\end{equation}\n",
    "\n",
    "Taking the equations relating $\\Delta G$ to $K$ and to $\\left\\{\\Delta H, \\Delta S\\right\\}$:\n",
    "\n",
    "\\begin{equation}\n",
    "\\Delta G = -RT \\ln K, \\tag{1}\n",
    "\\end{equation}\n",
    "\n",
    "\\begin{equation}\n",
    "\\Delta G = \\Delta H - T\\Delta S; \\tag{2}\n",
    "\\end{equation}\n",
    "\n",
    "we get\n",
    "\n",
    "\\begin{equation}\n",
    "\\ln K = \\frac{\\Delta H}{RT}-\\frac{\\Delta S}{R}. \\tag{3}\n",
    "\\end{equation}\n",
    "\n",
    "This is in the form\n",
    "\n",
    "\\begin{equation}\n",
    "y = mx + c\n",
    "\\end{equation}\n",
    "\n",
    "\\begin{equation}\n",
    "\\ln K = \\frac{\\Delta H}{R}\\frac{1}{T} - \\frac{\\Delta S}{R}. \\tag{4}\n",
    "\\end{equation}\n",
    "\n",
    "and plotting $\\ln(K)$ against $\\frac{1}{T}$ should give a straight line, with slope $\\frac{\\Delta H}{R}$ and intercept $-\\frac{\\Delta S}{R}$.\n",
    "\n",
    "#### Analysis\n",
    "\n",
    "The data from this experiment are stored in a text file in `data/equilbirium_constant.dat`, which looks like\n",
    "\n",
    "```\n",
    "# equilibrium constant data for 2 NO2 => N2O4  \n",
    "# columns are: temperature (degrees Celsius), K\n",
    "  \n",
    "9   34.3\n",
    "20  12\n",
    "25  8.79\n",
    "33  4.4\n",
    "40  2.8\n",
    "52  1.4\n",
    "60  0.751\n",
    "70  0.4\n",
    "```\n",
    "\n",
    "Not every line in this text file contains a data point. The first two lines describe the data set and tell us what is in each column and the units (where relevant). These &ldquo;non-data&rdquo; lines at the head of the file are usually called the **header**. Data files should always include a description of the data so that this is available for any later analysis.\n",
    "\n",
    "To read the data into this notebook we can use `read_csv()` contained in `pandas`. The csv in `read_csv` stands for `comma-separated values`, which is a common data file format, and can be exported from spreadsheet software such as Excel. A &ldquo;comma-separated&rdquo; data file would look like:\n",
    "\n",
    "```\n",
    "x,y\n",
    "0.3,2323\n",
    "1.5,1442\n",
    "3.7,2827\n",
    "5.2,12332\n",
    "```\n",
    "This is easily processed by computers, and has the advantage that you can include entries with spaces, such as names of people. For pure numerical datasets, however, separating columns with **whitespace** means the original file can be easily ready by humans. `read_csv()` can handle different separators between data fields (called **delimiters**), and has an optional extra setting for when the fields are separated by spaces.\n",
    "\n",
    ">```python\n",
    "data = pd.read_csv( 'data/equilibrium_constant.dat', \n",
    "                     delim_whitespace = True, \n",
    "                     comment='#', \n",
    "                     names = [ 'T (C)', 'K' ] )\n",
    "```"
   ]
  },
  {
   "cell_type": "code",
   "execution_count": null,
   "metadata": {
    "collapsed": false
   },
   "outputs": [],
   "source": [
    "|"
   ]
  },
  {
   "cell_type": "markdown",
   "metadata": {},
   "source": [
    "This looks quite complicated, but we can understand the options for `read_csv()` in turn:  \n",
    "\n",
    "First, we supply the filename as a string (including the name of the `data` directory).  \n",
    "\n",
    "Second, we set `delim_whitespace = True`. This does what you would expect.\n",
    "\n",
    "We are telling `read_csv()` that the file will use spaces to separate fields.  \n",
    "\n",
    "Third, `comment='#'`: the data file contains comments, and these are indicated by lines that start with `#`. \n",
    "\n",
    "Finally, we define `names = [ 'T (C)', 'K' ]`. This provides labels for the columns in our final DataFrame, which is stored in `data`\n",
    "\n",
    ">```python\n",
    "data\n",
    "```"
   ]
  },
  {
   "cell_type": "code",
   "execution_count": null,
   "metadata": {
    "collapsed": false
   },
   "outputs": [],
   "source": []
  },
  {
   "cell_type": "markdown",
   "metadata": {},
   "source": [
    "Looking at `data` shows us 8 data points (numbered 0 to 7), where each has a temperature (in the **T (C)** column) and a measured equilibrium constant (in the **K** column).\n",
    "\n",
    "Before we can plot these data, we need to convert the temperature to Kelvin, and calculate $\\ln K$.\n",
    "\n",
    "Remember that we can access a column in a DataFrame by using it's label:\n",
    "\n",
    ">```python\n",
    "data['T (C)']\n",
    "```"
   ]
  },
  {
   "cell_type": "code",
   "execution_count": null,
   "metadata": {
    "collapsed": false
   },
   "outputs": [],
   "source": []
  },
  {
   "cell_type": "markdown",
   "metadata": {},
   "source": [
    "and can use this to create a *new* column.\n",
    "\n",
    ">```python\n",
    "data['T (K)'] = data['T (C)'] + 273.0\n",
    "data\n",
    "```"
   ]
  },
  {
   "cell_type": "code",
   "execution_count": null,
   "metadata": {
    "collapsed": false
   },
   "outputs": [],
   "source": []
  },
  {
   "cell_type": "markdown",
   "metadata": {},
   "source": [
    "This has created a new column, with the label **T (K)**.\n",
    "\n",
    "Next, we do the same to calculate a set of $\\ln K$ values:\n",
    "\n",
    ">```python\n",
    "data['ln K'] = np.log( data['K'] )\n",
    "data\n",
    "```"
   ]
  },
  {
   "cell_type": "code",
   "execution_count": null,
   "metadata": {
    "collapsed": false
   },
   "outputs": [],
   "source": []
  },
  {
   "cell_type": "markdown",
   "metadata": {},
   "source": [
    "We are now ready to plot $\\ln K$ versus $1/T$.\n",
    "\n",
    ">```python\n",
    "x = 1.0 / data['T (K)']\n",
    "y = data['ln K']\n",
    "plt.plot( x, y, 'o' )\n",
    "plt.xlabel( '1/T' )\n",
    "plt.ylabel( 'ln K' )\n",
    "plt.show()\n",
    "```\n",
    "\n",
    "Notice that this code calculates all the inverse temperatures in place. An alternative way to do this would be to generate a new column in `data` with all the $1/T$ values, and then plot this directly."
   ]
  },
  {
   "cell_type": "code",
   "execution_count": null,
   "metadata": {
    "collapsed": false
   },
   "outputs": [],
   "source": []
  },
  {
   "cell_type": "markdown",
   "metadata": {},
   "source": [
    "And we find this plot gives an approximate straight line.\n",
    "\n",
    "There are a number of different ways to calculate the line of best-fit. One of the simplest is to use another module, [`scipy.stats`](https://docs.scipy.org/doc/scipy-0.18.1/reference/stats.html). As you might suspect, this contains an enourmous set of statistical analysis tools. We want [`linregress()`](https://docs.scipy.org/doc/scipy-0.18.1/reference/generated/scipy.stats.linregress.html#scipy.stats.linregress), which works as follows:\n",
    "\n",
    ">```python\n",
    "from scipy.stats import linregress\n",
    "linregress( x, y )\n",
    "```"
   ]
  },
  {
   "cell_type": "code",
   "execution_count": null,
   "metadata": {
    "collapsed": false
   },
   "outputs": [],
   "source": []
  },
  {
   "cell_type": "markdown",
   "metadata": {},
   "source": [
    "You can see the output is complicated, but includes a list of values that includes the slope and the intercept. In fact you can treat the output like a [list](lists), and use indexing to select a specific result.\n",
    "\n",
    ">```python\n",
    "linregress( x, y )[0] # use indexing to get the slope\n",
    "```"
   ]
  },
  {
   "cell_type": "code",
   "execution_count": null,
   "metadata": {
    "collapsed": false
   },
   "outputs": [],
   "source": []
  },
  {
   "cell_type": "markdown",
   "metadata": {},
   "source": [
    "Another option is to collect all five of the output values at once\n",
    "\n",
    ">```python\n",
    "slope, intercept, rvalue, pvalue, stderr = linregress( x, y )\n",
    "print( \"slope =\", slope )\n",
    "print( \"intercept =\", intercept )\n",
    "```"
   ]
  },
  {
   "cell_type": "code",
   "execution_count": null,
   "metadata": {
    "collapsed": false
   },
   "outputs": [],
   "source": []
  },
  {
   "cell_type": "markdown",
   "metadata": {},
   "source": [
    "To plot the best-fit line against the original data, we need to generate a new data set according to $y=mx+c$, with $m$ and $c$ as the slope and intercept from `linregress`.\n",
    "\n",
    ">```python\n",
    "y_fit = slope * x + intercept # remember, x is an array storing 1.0 / data['T (K)']\n",
    "plt.plot( x, y, 'o' )\n",
    "plt.plot( x, y_fit, '-' )\n",
    "plt.xlabel( '1/T' )\n",
    "plt.ylabel( 'ln K' )\n",
    "plt.show()\n",
    "```\n"
   ]
  },
  {
   "cell_type": "code",
   "execution_count": null,
   "metadata": {
    "collapsed": false
   },
   "outputs": [],
   "source": []
  },
  {
   "cell_type": "markdown",
   "metadata": {},
   "source": [
    "And because we have calculated the slope and intercept, we can derive $\\Delta H$ and $\\Delta S$ for the reaction.\n",
    "\n",
    "\\begin{equation}\n",
    "\\Delta H = R \\times \\mathrm{slope}\n",
    "\\end{equation}\n",
    "\n",
    "\\begin{equation}\n",
    "\\Delta S = R \\times \\mathrm{intercept}\n",
    "\\end{equation}\n",
    "\n",
    "To save us having to look up and type in the gas constant, $R$, we can use [`scipy.constants`](https://docs.scipy.org/doc/scipy-0.18.1/reference/constants.html#).\n",
    "\n",
    ">```python\n",
    "from scipy.constants import R # gas constant in J K^-1 mol^-1\n",
    "R \n",
    "```"
   ]
  },
  {
   "cell_type": "code",
   "execution_count": null,
   "metadata": {
    "collapsed": false
   },
   "outputs": [],
   "source": []
  },
  {
   "cell_type": "markdown",
   "metadata": {},
   "source": [
    ">```python\n",
    "delta_H = R * slope\n",
    "delta_S = R * intercept\n",
    "print( 'Delta H =', delta_H / 1000, 'kJ mol^-1' )\n",
    "print( 'Delta S = ', delta_S, 'J K^-1 mol^-1' )\n",
    "```"
   ]
  },
  {
   "cell_type": "code",
   "execution_count": null,
   "metadata": {
    "collapsed": false
   },
   "outputs": [],
   "source": []
  },
  {
   "cell_type": "markdown",
   "metadata": {},
   "source": [
    "To finish, although we have not done any particularly complicated analysis on the original data, we still might want to save our new data set to save us having to go through this again.\n",
    "\n",
    "Our modified data set is stored as a `pandas` DataFrame in `data`\n",
    "\n",
    ">```python\n",
    "data\n",
    "```"
   ]
  },
  {
   "cell_type": "code",
   "execution_count": null,
   "metadata": {
    "collapsed": false
   },
   "outputs": [],
   "source": []
  },
  {
   "cell_type": "markdown",
   "metadata": {},
   "source": [
    "To save this out to another file we can use [`DataFrame.to_csv()`](http://pandas.pydata.org/pandas-docs/stable/generated/pandas.DataFrame.to_csv.html).\n",
    "\n",
    ">```python\n",
    "filename = 'data/modified_equilibrium_data.dat'\n",
    "data.to_csv( filename, sep=' ' )\n",
    "```"
   ]
  },
  {
   "cell_type": "code",
   "execution_count": null,
   "metadata": {
    "collapsed": false
   },
   "outputs": [],
   "source": []
  },
  {
   "cell_type": "markdown",
   "metadata": {},
   "source": [
    "which saves the complete modified data set in plain text to `modified_equilibrium_data.dat` in the `modified_data` directory:\n",
    "\n",
    "```\n",
    "\"T (C)\" K \"T (K)\" \"ln K\"\n",
    "9 34.3 282.0 3.535145354171894\n",
    "20 12.0 293.0 2.4849066497880004\n",
    "25 8.79 298.0 2.1736147116970854\n",
    "33 4.4 306.0 1.4816045409242156\n",
    "40 2.8 313.0 1.0296194171811581\n",
    "52 1.4 325.0 0.3364722366212129\n",
    "60 0.7509999999999999 333.0 -0.28634962721800244\n",
    "70 0.4 343.0 -0.916290731874155\n",
    "```\n",
    "\n",
    "As a final note; it is important that you save modified data out to a *different* filename to your original data, to prevent overwriting it. In this case, our modified data set still includes the original data, but without the original raw data, there would be no way of checking this in the future."
   ]
  }
 ],
 "metadata": {
  "kernelspec": {
   "display_name": "Python 3",
   "language": "python",
   "name": "python3"
  },
  "language_info": {
   "codemirror_mode": {
    "name": "ipython",
    "version": 3
   },
   "file_extension": ".py",
   "mimetype": "text/x-python",
   "name": "python",
   "nbconvert_exporter": "python",
   "pygments_lexer": "ipython3",
   "version": "3.5.2"
  }
 },
 "nbformat": 4,
 "nbformat_minor": 2
}
